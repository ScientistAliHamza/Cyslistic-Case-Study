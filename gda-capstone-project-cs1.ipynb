{
 "cells": [
  {
   "cell_type": "markdown",
   "id": "ba946600",
   "metadata": {
    "_cell_guid": "9007dded-4075-4fac-9250-5a1338d16b0f",
    "_uuid": "03fff5db-8f48-42c9-b6b3-5bd09c8d23a3",
    "papermill": {
     "duration": 0.111447,
     "end_time": "2022-01-13T07:00:16.587021",
     "exception": false,
     "start_time": "2022-01-13T07:00:16.475574",
     "status": "completed"
    },
    "tags": []
   },
   "source": [
    "# Google Data Analytics Professional Certificate - Capstone Project\n",
    "## Case Study 1 - Cyclistic bike-share analysis\n",
    "### By Ali Hamza"
   ]
  },
  {
   "cell_type": "markdown",
   "id": "7eee8171",
   "metadata": {
    "_cell_guid": "b4299127-7dcd-4e1b-a431-acfc492bc62c",
    "_uuid": "7b96fcfa-e0cd-4cfe-b81a-2476e6708325",
    "papermill": {
     "duration": 0.109571,
     "end_time": "2022-01-13T07:00:16.806531",
     "exception": false,
     "start_time": "2022-01-13T07:00:16.696960",
     "status": "completed"
    },
    "tags": []
   },
   "source": [
    "# Introduction and Background\n",
    "\n",
    "Welcome to the Cyclistic bike-share analysis case study! In this case study, I had performed many real-world tasks. I had worked for a fictional company, Cyclistic, and met different characters and team members. In order to answer the key business questions, I had followed the steps of the data analysis process: ask, prepare, process, analyze, share, and act.\n",
    "\n",
    "#### About the Company\n",
    "In 2016, Cyclistic launched a successful bike-share offering. Since then, the program has grown to a fleet of 5,824 bicycles that are geotracked and locked into a network of 692 stations across Chicago. The bikes can be unlocked from one station and returned to any other station in the system anytime.\n",
    "\n",
    "Until now, Cyclistic’s marketing strategy relied on building general awareness and appealing to broad consumer segments. One approach that helped make these things possible was the flexibility of its pricing plans: single-ride passes, full-day passes, and annual memberships. Customers who purchase single-ride or full-day passes are referred to as casual riders. Customers who purchase annual memberships are Cyclistic members.\n",
    "\n",
    "Cyclistic’s finance analysts have concluded that annual members are much more profitable than casual riders. Although the pricing flexibility helps Cyclistic attract more customers, Moreno believes that maximizing the number of annual members will be key to future growth. Rather than creating a marketing campaign that targets all-new customers, Moreno believes there is a very good chance to convert casual riders into members. She notes that casual riders are already aware of the Cyclistic\n",
    "program and have chosen Cyclistic for their mobility needs.\n",
    "\n",
    "Moreno has set a clear goal: Design marketing strategies aimed at converting casual riders into annual members. In order to do that, however, the marketing analyst team needs to better understand how annual members and casual riders differ, why casual riders would buy a membership, and how digital media could affect their marketing tactics. Moreno and her team are interested in analyzing the Cyclistic historical bike trip data to identify trends."
   ]
  },
  {
   "cell_type": "markdown",
   "id": "a5002a0e",
   "metadata": {
    "papermill": {
     "duration": 0.110976,
     "end_time": "2022-01-13T07:00:17.028201",
     "exception": false,
     "start_time": "2022-01-13T07:00:16.917225",
     "status": "completed"
    },
    "tags": []
   },
   "source": [
    "# 1- Ask Phase\n",
    "\n",
    "* ## What's the business task?\n",
    "### The business task is to identify the different usage of Cyclistic bikes by annual members and casual riders. Then, recommend main points to marketing team which they will use to bulid strategies that aimed at converting casual riders into annual members.\n",
    "\n",
    "* ## Consider Key Stakeholders\n",
    "\n",
    "* **Lily Moreno:** The director of marketing and your manager. Moreno is responsible for the development of campaigns and initiatives to promote the bike-share program. These may include email, social media, and other channels.\n",
    "\n",
    "* **Cyclistic marketing analytics team:** A team of data analysts who are responsible for collecting, analyzing, and reporting data that helps guide Cyclistic marketing strategy.\n",
    "\n",
    "* **Cyclistic executive team:** The notoriously detail-oriented executive team will decide whether to approve the recommended marketing program."
   ]
  },
  {
   "cell_type": "markdown",
   "id": "c67b33ad",
   "metadata": {
    "papermill": {
     "duration": 0.109615,
     "end_time": "2022-01-13T07:00:17.250091",
     "exception": false,
     "start_time": "2022-01-13T07:00:17.140476",
     "status": "completed"
    },
    "tags": []
   },
   "source": [
    "# 2- Prepare Phase\n",
    "\n",
    "#### In this phase, I have downloaded e Cyclistic’s historical trip data to analyze and identify trends. I have downloaded that data from their official given [website](https://divvy-tripdata.s3.amazonaws.com/index.html). The data has been made available by Motivate International Inc. under this [license](https://ride.divvybikes.com/data-license-agreement).\n",
    "\n",
    "## Key Tasks\n",
    "### Download data and store it appropriately\n",
    "\n",
    "#### I have downloaded year 2021 data from January 2021 - December 2021 and stored it with proper name by monthYear.csv format.\n",
    "\n",
    "\n",
    "### Identify how it’s organized\n",
    "\n",
    "#### The data is organized into 13 columns includeds:\n",
    "1. ##### ride_id\n",
    "2. ##### rideable_type\n",
    "3. ##### started_at\n",
    "4. ##### ended_at\n",
    "5. ##### start_station_name\n",
    "6. ##### start_station_id\n",
    "7. ##### end_station_name\n",
    "8. ##### end_station_id\n",
    "9. ##### start_lat\n",
    "10. ##### start_lng\n",
    "11. ##### end_lat\n",
    "12. ##### end_lng\n",
    "13. ##### member_casual\n",
    "\n",
    "#### All 12 files contains thousand of records"
   ]
  },
  {
   "cell_type": "markdown",
   "id": "6afe06e9",
   "metadata": {
    "papermill": {
     "duration": 0.109484,
     "end_time": "2022-01-13T07:00:17.471238",
     "exception": false,
     "start_time": "2022-01-13T07:00:17.361754",
     "status": "completed"
    },
    "tags": []
   },
   "source": [
    "# 3- Process Phase\n",
    "### In this phase, I have cleaned data through manipulating rows and columns as adding new columns and deleting some columns and vague and null rows.\n",
    "\n",
    "### All of steps are given below in the code cells. "
   ]
  },
  {
   "cell_type": "code",
   "execution_count": 1,
   "id": "6cdce310",
   "metadata": {
    "_cell_guid": "1210e6a8-0f87-4633-af13-1faf539a3572",
    "_execution_state": "idle",
    "_uuid": "22af252c-ad54-4afe-8925-6c5c4b9c0376",
    "collapsed": false,
    "execution": {
     "iopub.execute_input": "2022-01-13T07:00:17.699730Z",
     "iopub.status.busy": "2022-01-13T07:00:17.696696Z",
     "iopub.status.idle": "2022-01-13T07:00:19.016531Z",
     "shell.execute_reply": "2022-01-13T07:00:19.015155Z"
    },
    "jupyter": {
     "outputs_hidden": false
    },
    "papermill": {
     "duration": 1.434597,
     "end_time": "2022-01-13T07:00:19.016699",
     "exception": false,
     "start_time": "2022-01-13T07:00:17.582102",
     "status": "completed"
    },
    "tags": []
   },
   "outputs": [
    {
     "name": "stderr",
     "output_type": "stream",
     "text": [
      "── \u001b[1mAttaching packages\u001b[22m ─────────────────────────────────────── tidyverse 1.3.1 ──\n",
      "\n",
      "\u001b[32m✔\u001b[39m \u001b[34mggplot2\u001b[39m 3.3.5     \u001b[32m✔\u001b[39m \u001b[34mpurrr  \u001b[39m 0.3.4\n",
      "\u001b[32m✔\u001b[39m \u001b[34mtibble \u001b[39m 3.1.5     \u001b[32m✔\u001b[39m \u001b[34mdplyr  \u001b[39m 1.0.7\n",
      "\u001b[32m✔\u001b[39m \u001b[34mtidyr  \u001b[39m 1.1.4     \u001b[32m✔\u001b[39m \u001b[34mstringr\u001b[39m 1.4.0\n",
      "\u001b[32m✔\u001b[39m \u001b[34mreadr  \u001b[39m 2.0.2     \u001b[32m✔\u001b[39m \u001b[34mforcats\u001b[39m 0.5.1\n",
      "\n",
      "── \u001b[1mConflicts\u001b[22m ────────────────────────────────────────── tidyverse_conflicts() ──\n",
      "\u001b[31m✖\u001b[39m \u001b[34mdplyr\u001b[39m::\u001b[32mfilter()\u001b[39m masks \u001b[34mstats\u001b[39m::filter()\n",
      "\u001b[31m✖\u001b[39m \u001b[34mdplyr\u001b[39m::\u001b[32mlag()\u001b[39m    masks \u001b[34mstats\u001b[39m::lag()\n",
      "\n",
      "\n",
      "Attaching package: ‘lubridate’\n",
      "\n",
      "\n",
      "The following objects are masked from ‘package:base’:\n",
      "\n",
      "    date, intersect, setdiff, union\n",
      "\n",
      "\n"
     ]
    }
   ],
   "source": [
    "# Load necessary libraries to use in this Notebook\n",
    "\n",
    "library(tidyverse) # metapackage of all tidyverse packages\n",
    "library(lubridate) #helps wrangle date attributes\n",
    "library(ggplot2) #helps visualize data"
   ]
  },
  {
   "cell_type": "code",
   "execution_count": 2,
   "id": "437a135e",
   "metadata": {
    "_cell_guid": "79fe2c5b-2ddd-493a-9a23-818ace20f1b0",
    "_uuid": "db4d703d-e662-41b8-b0a9-ea9a416a945d",
    "collapsed": false,
    "execution": {
     "iopub.execute_input": "2022-01-13T07:00:19.287365Z",
     "iopub.status.busy": "2022-01-13T07:00:19.255442Z",
     "iopub.status.idle": "2022-01-13T07:00:24.107465Z",
     "shell.execute_reply": "2022-01-13T07:00:24.105527Z"
    },
    "jupyter": {
     "outputs_hidden": false
    },
    "papermill": {
     "duration": 4.971985,
     "end_time": "2022-01-13T07:00:24.107623",
     "exception": false,
     "start_time": "2022-01-13T07:00:19.135638",
     "status": "completed"
    },
    "tags": []
   },
   "outputs": [
    {
     "name": "stderr",
     "output_type": "stream",
     "text": [
      "\u001b[1m\u001b[1mRows: \u001b[1m\u001b[22m\u001b[34m\u001b[34m96834\u001b[34m\u001b[39m \u001b[1m\u001b[1mColumns: \u001b[1m\u001b[22m\u001b[34m\u001b[34m13\u001b[34m\u001b[39m\n",
      "\n",
      "\u001b[36m──\u001b[39m \u001b[1m\u001b[1mColumn specification\u001b[1m\u001b[22m \u001b[36m────────────────────────────────────────────────────────\u001b[39m\n",
      "\u001b[1mDelimiter:\u001b[22m \",\"\n",
      "\u001b[31mchr\u001b[39m  (7): ride_id, rideable_type, start_station_name, start_station_id, end_...\n",
      "\u001b[32mdbl\u001b[39m  (4): start_lat, start_lng, end_lat, end_lng\n",
      "\u001b[34mdttm\u001b[39m (2): started_at, ended_at\n",
      "\n",
      "\n",
      "\u001b[36mℹ\u001b[39m Use \u001b[30m\u001b[47m\u001b[30m\u001b[47m`spec()`\u001b[47m\u001b[30m\u001b[49m\u001b[39m to retrieve the full column specification for this data.\n",
      "\u001b[36mℹ\u001b[39m Specify the column types or set \u001b[30m\u001b[47m\u001b[30m\u001b[47m`show_col_types = FALSE`\u001b[47m\u001b[30m\u001b[49m\u001b[39m to quiet this message.\n",
      "\n",
      "\u001b[1m\u001b[1mRows: \u001b[1m\u001b[22m\u001b[34m\u001b[34m49622\u001b[34m\u001b[39m \u001b[1m\u001b[1mColumns: \u001b[1m\u001b[22m\u001b[34m\u001b[34m13\u001b[34m\u001b[39m\n",
      "\n",
      "\u001b[36m──\u001b[39m \u001b[1m\u001b[1mColumn specification\u001b[1m\u001b[22m \u001b[36m────────────────────────────────────────────────────────\u001b[39m\n",
      "\u001b[1mDelimiter:\u001b[22m \",\"\n",
      "\u001b[31mchr\u001b[39m  (7): ride_id, rideable_type, start_station_name, start_station_id, end_...\n",
      "\u001b[32mdbl\u001b[39m  (4): start_lat, start_lng, end_lat, end_lng\n",
      "\u001b[34mdttm\u001b[39m (2): started_at, ended_at\n",
      "\n",
      "\n",
      "\u001b[36mℹ\u001b[39m Use \u001b[30m\u001b[47m\u001b[30m\u001b[47m`spec()`\u001b[47m\u001b[30m\u001b[49m\u001b[39m to retrieve the full column specification for this data.\n",
      "\u001b[36mℹ\u001b[39m Specify the column types or set \u001b[30m\u001b[47m\u001b[30m\u001b[47m`show_col_types = FALSE`\u001b[47m\u001b[30m\u001b[49m\u001b[39m to quiet this message.\n",
      "\n",
      "\u001b[1m\u001b[1mRows: \u001b[1m\u001b[22m\u001b[34m\u001b[34m228496\u001b[34m\u001b[39m \u001b[1m\u001b[1mColumns: \u001b[1m\u001b[22m\u001b[34m\u001b[34m13\u001b[34m\u001b[39m\n",
      "\n",
      "\u001b[36m──\u001b[39m \u001b[1m\u001b[1mColumn specification\u001b[1m\u001b[22m \u001b[36m────────────────────────────────────────────────────────\u001b[39m\n",
      "\u001b[1mDelimiter:\u001b[22m \",\"\n",
      "\u001b[31mchr\u001b[39m  (7): ride_id, rideable_type, start_station_name, start_station_id, end_...\n",
      "\u001b[32mdbl\u001b[39m  (4): start_lat, start_lng, end_lat, end_lng\n",
      "\u001b[34mdttm\u001b[39m (2): started_at, ended_at\n",
      "\n",
      "\n",
      "\u001b[36mℹ\u001b[39m Use \u001b[30m\u001b[47m\u001b[30m\u001b[47m`spec()`\u001b[47m\u001b[30m\u001b[49m\u001b[39m to retrieve the full column specification for this data.\n",
      "\u001b[36mℹ\u001b[39m Specify the column types or set \u001b[30m\u001b[47m\u001b[30m\u001b[47m`show_col_types = FALSE`\u001b[47m\u001b[30m\u001b[49m\u001b[39m to quiet this message.\n",
      "\n",
      "\u001b[1m\u001b[1mRows: \u001b[1m\u001b[22m\u001b[34m\u001b[34m337230\u001b[34m\u001b[39m \u001b[1m\u001b[1mColumns: \u001b[1m\u001b[22m\u001b[34m\u001b[34m13\u001b[34m\u001b[39m\n",
      "\n",
      "\u001b[36m──\u001b[39m \u001b[1m\u001b[1mColumn specification\u001b[1m\u001b[22m \u001b[36m────────────────────────────────────────────────────────\u001b[39m\n",
      "\u001b[1mDelimiter:\u001b[22m \",\"\n",
      "\u001b[31mchr\u001b[39m  (7): ride_id, rideable_type, start_station_name, start_station_id, end_...\n",
      "\u001b[32mdbl\u001b[39m  (4): start_lat, start_lng, end_lat, end_lng\n",
      "\u001b[34mdttm\u001b[39m (2): started_at, ended_at\n",
      "\n",
      "\n",
      "\u001b[36mℹ\u001b[39m Use \u001b[30m\u001b[47m\u001b[30m\u001b[47m`spec()`\u001b[47m\u001b[30m\u001b[49m\u001b[39m to retrieve the full column specification for this data.\n",
      "\u001b[36mℹ\u001b[39m Specify the column types or set \u001b[30m\u001b[47m\u001b[30m\u001b[47m`show_col_types = FALSE`\u001b[47m\u001b[30m\u001b[49m\u001b[39m to quiet this message.\n",
      "\n",
      "\u001b[1m\u001b[1mRows: \u001b[1m\u001b[22m\u001b[34m\u001b[34m531633\u001b[34m\u001b[39m \u001b[1m\u001b[1mColumns: \u001b[1m\u001b[22m\u001b[34m\u001b[34m13\u001b[34m\u001b[39m\n",
      "\n",
      "\u001b[36m──\u001b[39m \u001b[1m\u001b[1mColumn specification\u001b[1m\u001b[22m \u001b[36m────────────────────────────────────────────────────────\u001b[39m\n",
      "\u001b[1mDelimiter:\u001b[22m \",\"\n",
      "\u001b[31mchr\u001b[39m  (7): ride_id, rideable_type, start_station_name, start_station_id, end_...\n",
      "\u001b[32mdbl\u001b[39m  (4): start_lat, start_lng, end_lat, end_lng\n",
      "\u001b[34mdttm\u001b[39m (2): started_at, ended_at\n",
      "\n",
      "\n",
      "\u001b[36mℹ\u001b[39m Use \u001b[30m\u001b[47m\u001b[30m\u001b[47m`spec()`\u001b[47m\u001b[30m\u001b[49m\u001b[39m to retrieve the full column specification for this data.\n",
      "\u001b[36mℹ\u001b[39m Specify the column types or set \u001b[30m\u001b[47m\u001b[30m\u001b[47m`show_col_types = FALSE`\u001b[47m\u001b[30m\u001b[49m\u001b[39m to quiet this message.\n",
      "\n",
      "\u001b[1m\u001b[1mRows: \u001b[1m\u001b[22m\u001b[34m\u001b[34m729595\u001b[34m\u001b[39m \u001b[1m\u001b[1mColumns: \u001b[1m\u001b[22m\u001b[34m\u001b[34m13\u001b[34m\u001b[39m\n",
      "\n",
      "\u001b[36m──\u001b[39m \u001b[1m\u001b[1mColumn specification\u001b[1m\u001b[22m \u001b[36m────────────────────────────────────────────────────────\u001b[39m\n",
      "\u001b[1mDelimiter:\u001b[22m \",\"\n",
      "\u001b[31mchr\u001b[39m  (7): ride_id, rideable_type, start_station_name, start_station_id, end_...\n",
      "\u001b[32mdbl\u001b[39m  (4): start_lat, start_lng, end_lat, end_lng\n",
      "\u001b[34mdttm\u001b[39m (2): started_at, ended_at\n",
      "\n",
      "\n",
      "\u001b[36mℹ\u001b[39m Use \u001b[30m\u001b[47m\u001b[30m\u001b[47m`spec()`\u001b[47m\u001b[30m\u001b[49m\u001b[39m to retrieve the full column specification for this data.\n",
      "\u001b[36mℹ\u001b[39m Specify the column types or set \u001b[30m\u001b[47m\u001b[30m\u001b[47m`show_col_types = FALSE`\u001b[47m\u001b[30m\u001b[49m\u001b[39m to quiet this message.\n",
      "\n",
      "\u001b[1m\u001b[1mRows: \u001b[1m\u001b[22m\u001b[34m\u001b[34m822410\u001b[34m\u001b[39m \u001b[1m\u001b[1mColumns: \u001b[1m\u001b[22m\u001b[34m\u001b[34m13\u001b[34m\u001b[39m\n",
      "\n",
      "\u001b[36m──\u001b[39m \u001b[1m\u001b[1mColumn specification\u001b[1m\u001b[22m \u001b[36m────────────────────────────────────────────────────────\u001b[39m\n",
      "\u001b[1mDelimiter:\u001b[22m \",\"\n",
      "\u001b[31mchr\u001b[39m  (7): ride_id, rideable_type, start_station_name, start_station_id, end_...\n",
      "\u001b[32mdbl\u001b[39m  (4): start_lat, start_lng, end_lat, end_lng\n",
      "\u001b[34mdttm\u001b[39m (2): started_at, ended_at\n",
      "\n",
      "\n",
      "\u001b[36mℹ\u001b[39m Use \u001b[30m\u001b[47m\u001b[30m\u001b[47m`spec()`\u001b[47m\u001b[30m\u001b[49m\u001b[39m to retrieve the full column specification for this data.\n",
      "\u001b[36mℹ\u001b[39m Specify the column types or set \u001b[30m\u001b[47m\u001b[30m\u001b[47m`show_col_types = FALSE`\u001b[47m\u001b[30m\u001b[49m\u001b[39m to quiet this message.\n",
      "\n",
      "\u001b[1m\u001b[1mRows: \u001b[1m\u001b[22m\u001b[34m\u001b[34m804352\u001b[34m\u001b[39m \u001b[1m\u001b[1mColumns: \u001b[1m\u001b[22m\u001b[34m\u001b[34m13\u001b[34m\u001b[39m\n",
      "\n",
      "\u001b[36m──\u001b[39m \u001b[1m\u001b[1mColumn specification\u001b[1m\u001b[22m \u001b[36m────────────────────────────────────────────────────────\u001b[39m\n",
      "\u001b[1mDelimiter:\u001b[22m \",\"\n",
      "\u001b[31mchr\u001b[39m  (7): ride_id, rideable_type, start_station_name, start_station_id, end_...\n",
      "\u001b[32mdbl\u001b[39m  (4): start_lat, start_lng, end_lat, end_lng\n",
      "\u001b[34mdttm\u001b[39m (2): started_at, ended_at\n",
      "\n",
      "\n",
      "\u001b[36mℹ\u001b[39m Use \u001b[30m\u001b[47m\u001b[30m\u001b[47m`spec()`\u001b[47m\u001b[30m\u001b[49m\u001b[39m to retrieve the full column specification for this data.\n",
      "\u001b[36mℹ\u001b[39m Specify the column types or set \u001b[30m\u001b[47m\u001b[30m\u001b[47m`show_col_types = FALSE`\u001b[47m\u001b[30m\u001b[49m\u001b[39m to quiet this message.\n",
      "\n",
      "\u001b[1m\u001b[1mRows: \u001b[1m\u001b[22m\u001b[34m\u001b[34m756147\u001b[34m\u001b[39m \u001b[1m\u001b[1mColumns: \u001b[1m\u001b[22m\u001b[34m\u001b[34m13\u001b[34m\u001b[39m\n",
      "\n",
      "\u001b[36m──\u001b[39m \u001b[1m\u001b[1mColumn specification\u001b[1m\u001b[22m \u001b[36m────────────────────────────────────────────────────────\u001b[39m\n",
      "\u001b[1mDelimiter:\u001b[22m \",\"\n",
      "\u001b[31mchr\u001b[39m  (7): ride_id, rideable_type, start_station_name, start_station_id, end_...\n",
      "\u001b[32mdbl\u001b[39m  (4): start_lat, start_lng, end_lat, end_lng\n",
      "\u001b[34mdttm\u001b[39m (2): started_at, ended_at\n",
      "\n",
      "\n",
      "\u001b[36mℹ\u001b[39m Use \u001b[30m\u001b[47m\u001b[30m\u001b[47m`spec()`\u001b[47m\u001b[30m\u001b[49m\u001b[39m to retrieve the full column specification for this data.\n",
      "\u001b[36mℹ\u001b[39m Specify the column types or set \u001b[30m\u001b[47m\u001b[30m\u001b[47m`show_col_types = FALSE`\u001b[47m\u001b[30m\u001b[49m\u001b[39m to quiet this message.\n",
      "\n",
      "\u001b[1m\u001b[1mRows: \u001b[1m\u001b[22m\u001b[34m\u001b[34m631226\u001b[34m\u001b[39m \u001b[1m\u001b[1mColumns: \u001b[1m\u001b[22m\u001b[34m\u001b[34m13\u001b[34m\u001b[39m\n",
      "\n",
      "\u001b[36m──\u001b[39m \u001b[1m\u001b[1mColumn specification\u001b[1m\u001b[22m \u001b[36m────────────────────────────────────────────────────────\u001b[39m\n",
      "\u001b[1mDelimiter:\u001b[22m \",\"\n",
      "\u001b[31mchr\u001b[39m  (7): ride_id, rideable_type, start_station_name, start_station_id, end_...\n",
      "\u001b[32mdbl\u001b[39m  (4): start_lat, start_lng, end_lat, end_lng\n",
      "\u001b[34mdttm\u001b[39m (2): started_at, ended_at\n",
      "\n",
      "\n",
      "\u001b[36mℹ\u001b[39m Use \u001b[30m\u001b[47m\u001b[30m\u001b[47m`spec()`\u001b[47m\u001b[30m\u001b[49m\u001b[39m to retrieve the full column specification for this data.\n",
      "\u001b[36mℹ\u001b[39m Specify the column types or set \u001b[30m\u001b[47m\u001b[30m\u001b[47m`show_col_types = FALSE`\u001b[47m\u001b[30m\u001b[49m\u001b[39m to quiet this message.\n",
      "\n",
      "\u001b[1m\u001b[1mRows: \u001b[1m\u001b[22m\u001b[34m\u001b[34m359978\u001b[34m\u001b[39m \u001b[1m\u001b[1mColumns: \u001b[1m\u001b[22m\u001b[34m\u001b[34m13\u001b[34m\u001b[39m\n",
      "\n",
      "\u001b[36m──\u001b[39m \u001b[1m\u001b[1mColumn specification\u001b[1m\u001b[22m \u001b[36m────────────────────────────────────────────────────────\u001b[39m\n",
      "\u001b[1mDelimiter:\u001b[22m \",\"\n",
      "\u001b[31mchr\u001b[39m  (7): ride_id, rideable_type, start_station_name, start_station_id, end_...\n",
      "\u001b[32mdbl\u001b[39m  (4): start_lat, start_lng, end_lat, end_lng\n",
      "\u001b[34mdttm\u001b[39m (2): started_at, ended_at\n",
      "\n",
      "\n",
      "\u001b[36mℹ\u001b[39m Use \u001b[30m\u001b[47m\u001b[30m\u001b[47m`spec()`\u001b[47m\u001b[30m\u001b[49m\u001b[39m to retrieve the full column specification for this data.\n",
      "\u001b[36mℹ\u001b[39m Specify the column types or set \u001b[30m\u001b[47m\u001b[30m\u001b[47m`show_col_types = FALSE`\u001b[47m\u001b[30m\u001b[49m\u001b[39m to quiet this message.\n",
      "\n",
      "\u001b[1m\u001b[1mRows: \u001b[1m\u001b[22m\u001b[34m\u001b[34m247540\u001b[34m\u001b[39m \u001b[1m\u001b[1mColumns: \u001b[1m\u001b[22m\u001b[34m\u001b[34m13\u001b[34m\u001b[39m\n",
      "\n",
      "\u001b[36m──\u001b[39m \u001b[1m\u001b[1mColumn specification\u001b[1m\u001b[22m \u001b[36m────────────────────────────────────────────────────────\u001b[39m\n",
      "\u001b[1mDelimiter:\u001b[22m \",\"\n",
      "\u001b[31mchr\u001b[39m  (7): ride_id, rideable_type, start_station_name, start_station_id, end_...\n",
      "\u001b[32mdbl\u001b[39m  (4): start_lat, start_lng, end_lat, end_lng\n",
      "\u001b[34mdttm\u001b[39m (2): started_at, ended_at\n",
      "\n",
      "\n",
      "\u001b[36mℹ\u001b[39m Use \u001b[30m\u001b[47m\u001b[30m\u001b[47m`spec()`\u001b[47m\u001b[30m\u001b[49m\u001b[39m to retrieve the full column specification for this data.\n",
      "\u001b[36mℹ\u001b[39m Specify the column types or set \u001b[30m\u001b[47m\u001b[30m\u001b[47m`show_col_types = FALSE`\u001b[47m\u001b[30m\u001b[49m\u001b[39m to quiet this message.\n",
      "\n"
     ]
    }
   ],
   "source": [
    "# Importing  all 12 months csv files of the year 2021\n",
    "\n",
    "jan2021 <- read_csv(\"../input/gda-capstone-project-cyclistic/jan2021.csv\")\n",
    "feb2021 <- read_csv(\"../input/gda-capstone-project-cyclistic/feb2021.csv\")\n",
    "mar2021 <- read_csv(\"../input/gda-capstone-project-cyclistic/mar2021.csv\")\n",
    "apr2021 <- read_csv(\"../input/gda-capstone-project-cyclistic/apr2021.csv\")\n",
    "may2021 <- read_csv(\"../input/gda-capstone-project-cyclistic/may2021.csv\")\n",
    "jun2021 <- read_csv(\"../input/gda-capstone-project-cyclistic/jun2021.csv\")\n",
    "jul2021 <- read_csv(\"../input/gda-capstone-project-cyclistic/jul2021.csv\")\n",
    "aug2021 <- read_csv(\"../input/gda-capstone-project-cyclistic/aug2021.csv\")\n",
    "sep2021 <- read_csv(\"../input/gda-capstone-project-cyclistic/sep2021.csv\")\n",
    "oct2021 <- read_csv(\"../input/gda-capstone-project-cyclistic/oct2021.csv\")\n",
    "nov2021 <- read_csv(\"../input/gda-capstone-project-cyclistic/nov2021.csv\")\n",
    "dec2021 <- read_csv(\"../input/gda-capstone-project-cyclistic/dec2021.csv\")"
   ]
  },
  {
   "cell_type": "code",
   "execution_count": 3,
   "id": "59ed3d36",
   "metadata": {
    "_cell_guid": "dba53e94-65b9-4acb-8aae-364713cd4b24",
    "_uuid": "b4c73e2e-8d1f-4e3f-8dcc-baf62a525976",
    "collapsed": false,
    "execution": {
     "iopub.execute_input": "2022-01-13T07:00:24.421776Z",
     "iopub.status.busy": "2022-01-13T07:00:24.419501Z",
     "iopub.status.idle": "2022-01-13T07:00:24.616228Z",
     "shell.execute_reply": "2022-01-13T07:00:24.614482Z"
    },
    "jupyter": {
     "outputs_hidden": false
    },
    "papermill": {
     "duration": 0.355206,
     "end_time": "2022-01-13T07:00:24.616374",
     "exception": false,
     "start_time": "2022-01-13T07:00:24.261168",
     "status": "completed"
    },
    "tags": []
   },
   "outputs": [
    {
     "name": "stdout",
     "output_type": "stream",
     "text": [
      "Rows: 96,834\n",
      "Columns: 13\n",
      "$ ride_id            \u001b[3m\u001b[90m<chr>\u001b[39m\u001b[23m \"E19E6F1B8D4C42ED\", \"DC88F20C2C55F27F\", \"EC45C94683…\n",
      "$ rideable_type      \u001b[3m\u001b[90m<chr>\u001b[39m\u001b[23m \"electric_bike\", \"electric_bike\", \"electric_bike\", …\n",
      "$ started_at         \u001b[3m\u001b[90m<dttm>\u001b[39m\u001b[23m 2021-01-23 16:14:19, 2021-01-27 18:43:08, 2021-01-…\n",
      "$ ended_at           \u001b[3m\u001b[90m<dttm>\u001b[39m\u001b[23m 2021-01-23 16:24:44, 2021-01-27 18:47:12, 2021-01-…\n",
      "$ start_station_name \u001b[3m\u001b[90m<chr>\u001b[39m\u001b[23m \"California Ave & Cortez St\", \"California Ave & Cor…\n",
      "$ start_station_id   \u001b[3m\u001b[90m<chr>\u001b[39m\u001b[23m \"17660\", \"17660\", \"17660\", \"17660\", \"17660\", \"17660…\n",
      "$ end_station_name   \u001b[3m\u001b[90m<chr>\u001b[39m\u001b[23m NA, NA, NA, NA, NA, NA, NA, NA, NA, \"Wood St & Augu…\n",
      "$ end_station_id     \u001b[3m\u001b[90m<chr>\u001b[39m\u001b[23m NA, NA, NA, NA, NA, NA, NA, NA, NA, \"657\", \"13258\",…\n",
      "$ start_lat          \u001b[3m\u001b[90m<dbl>\u001b[39m\u001b[23m 41.90034, 41.90033, 41.90031, 41.90040, 41.90033, 4…\n",
      "$ start_lng          \u001b[3m\u001b[90m<dbl>\u001b[39m\u001b[23m -87.69674, -87.69671, -87.69664, -87.69666, -87.696…\n",
      "$ end_lat            \u001b[3m\u001b[90m<dbl>\u001b[39m\u001b[23m 41.89000, 41.90000, 41.90000, 41.92000, 41.90000, 4…\n",
      "$ end_lng            \u001b[3m\u001b[90m<dbl>\u001b[39m\u001b[23m -87.72000, -87.69000, -87.70000, -87.69000, -87.700…\n",
      "$ member_casual      \u001b[3m\u001b[90m<chr>\u001b[39m\u001b[23m \"member\", \"member\", \"member\", \"member\", \"casual\", \"…\n",
      "Rows: 49,622\n",
      "Columns: 13\n",
      "$ ride_id            \u001b[3m\u001b[90m<chr>\u001b[39m\u001b[23m \"89E7AA6C29227EFF\", \"0FEFDE2603568365\", \"E6159D746B…\n",
      "$ rideable_type      \u001b[3m\u001b[90m<chr>\u001b[39m\u001b[23m \"classic_bike\", \"classic_bike\", \"electric_bike\", \"c…\n",
      "$ started_at         \u001b[3m\u001b[90m<dttm>\u001b[39m\u001b[23m 2021-02-12 16:14:56, 2021-02-14 17:52:38, 2021-02-…\n",
      "$ ended_at           \u001b[3m\u001b[90m<dttm>\u001b[39m\u001b[23m 2021-02-12 16:21:43, 2021-02-14 18:12:09, 2021-02-…\n",
      "$ start_station_name \u001b[3m\u001b[90m<chr>\u001b[39m\u001b[23m \"Glenwood Ave & Touhy Ave\", \"Glenwood Ave & Touhy A…\n",
      "$ start_station_id   \u001b[3m\u001b[90m<chr>\u001b[39m\u001b[23m \"525\", \"525\", \"KA1503000012\", \"637\", \"13216\", \"1800…\n",
      "$ end_station_name   \u001b[3m\u001b[90m<chr>\u001b[39m\u001b[23m \"Sheridan Rd & Columbia Ave\", \"Bosworth Ave & Howar…\n",
      "$ end_station_id     \u001b[3m\u001b[90m<chr>\u001b[39m\u001b[23m \"660\", \"16806\", \"TA1305000029\", \"TA1305000034\", \"TA…\n",
      "$ start_lat          \u001b[3m\u001b[90m<dbl>\u001b[39m\u001b[23m 42.01270, 42.01270, 41.88579, 41.89563, 41.83473, 4…\n",
      "$ start_lng          \u001b[3m\u001b[90m<dbl>\u001b[39m\u001b[23m -87.66606, -87.66606, -87.63110, -87.67207, -87.625…\n",
      "$ end_lat            \u001b[3m\u001b[90m<dbl>\u001b[39m\u001b[23m 42.00458, 42.01954, 41.88487, 41.90312, 41.83816, 4…\n",
      "$ end_lng            \u001b[3m\u001b[90m<dbl>\u001b[39m\u001b[23m -87.66141, -87.66956, -87.62750, -87.67394, -87.645…\n",
      "$ member_casual      \u001b[3m\u001b[90m<chr>\u001b[39m\u001b[23m \"member\", \"casual\", \"member\", \"member\", \"member\", \"…\n",
      "Rows: 228,496\n",
      "Columns: 13\n",
      "$ ride_id            \u001b[3m\u001b[90m<chr>\u001b[39m\u001b[23m \"CFA86D4455AA1030\", \"30D9DC61227D1AF3\", \"846D87A156…\n",
      "$ rideable_type      \u001b[3m\u001b[90m<chr>\u001b[39m\u001b[23m \"classic_bike\", \"classic_bike\", \"classic_bike\", \"cl…\n",
      "$ started_at         \u001b[3m\u001b[90m<dttm>\u001b[39m\u001b[23m 2021-03-16 08:32:30, 2021-03-28 01:26:28, 2021-03-…\n",
      "$ ended_at           \u001b[3m\u001b[90m<dttm>\u001b[39m\u001b[23m 2021-03-16 08:36:34, 2021-03-28 01:36:55, 2021-03-…\n",
      "$ start_station_name \u001b[3m\u001b[90m<chr>\u001b[39m\u001b[23m \"Humboldt Blvd & Armitage Ave\", \"Humboldt Blvd & Ar…\n",
      "$ start_station_id   \u001b[3m\u001b[90m<chr>\u001b[39m\u001b[23m \"15651\", \"15651\", \"15443\", \"TA1308000021\", \"525\", \"…\n",
      "$ end_station_name   \u001b[3m\u001b[90m<chr>\u001b[39m\u001b[23m \"Stave St & Armitage Ave\", \"Central Park Ave & Bloo…\n",
      "$ end_station_id     \u001b[3m\u001b[90m<chr>\u001b[39m\u001b[23m \"13266\", \"18017\", \"TA1308000043\", \"13323\", \"E008\", …\n",
      "$ start_lat          \u001b[3m\u001b[90m<dbl>\u001b[39m\u001b[23m 41.91751, 41.91751, 41.84273, 41.96881, 42.01270, 4…\n",
      "$ start_lng          \u001b[3m\u001b[90m<dbl>\u001b[39m\u001b[23m -87.70181, -87.70181, -87.63549, -87.65766, -87.666…\n",
      "$ end_lat            \u001b[3m\u001b[90m<dbl>\u001b[39m\u001b[23m 41.91774, 41.91417, 41.83066, 41.95283, 42.05049, 4…\n",
      "$ end_lng            \u001b[3m\u001b[90m<dbl>\u001b[39m\u001b[23m -87.69139, -87.71676, -87.64717, -87.64999, -87.677…\n",
      "$ member_casual      \u001b[3m\u001b[90m<chr>\u001b[39m\u001b[23m \"casual\", \"casual\", \"casual\", \"casual\", \"casual\", \"…\n",
      "Rows: 337,230\n",
      "Columns: 13\n",
      "$ ride_id            \u001b[3m\u001b[90m<chr>\u001b[39m\u001b[23m \"6C992BD37A98A63F\", \"1E0145613A209000\", \"E498E15508…\n",
      "$ rideable_type      \u001b[3m\u001b[90m<chr>\u001b[39m\u001b[23m \"classic_bike\", \"docked_bike\", \"docked_bike\", \"clas…\n",
      "$ started_at         \u001b[3m\u001b[90m<dttm>\u001b[39m\u001b[23m 2021-04-12 18:25:36, 2021-04-27 17:27:11, 2021-04-…\n",
      "$ ended_at           \u001b[3m\u001b[90m<dttm>\u001b[39m\u001b[23m 2021-04-12 18:56:55, 2021-04-27 18:31:29, 2021-04-…\n",
      "$ start_station_name \u001b[3m\u001b[90m<chr>\u001b[39m\u001b[23m \"State St & Pearson St\", \"Dorchester Ave & 49th St\"…\n",
      "$ start_station_id   \u001b[3m\u001b[90m<chr>\u001b[39m\u001b[23m \"TA1307000061\", \"KA1503000069\", \"20121\", \"TA1305000…\n",
      "$ end_station_name   \u001b[3m\u001b[90m<chr>\u001b[39m\u001b[23m \"Southport Ave & Waveland Ave\", \"Dorchester Ave & 4…\n",
      "$ end_station_id     \u001b[3m\u001b[90m<chr>\u001b[39m\u001b[23m \"13235\", \"KA1503000069\", \"20121\", \"13235\", \"20121\",…\n",
      "$ start_lat          \u001b[3m\u001b[90m<dbl>\u001b[39m\u001b[23m 41.89745, 41.80577, 41.74149, 41.90312, 41.74149, 4…\n",
      "$ start_lng          \u001b[3m\u001b[90m<dbl>\u001b[39m\u001b[23m -87.62872, -87.59246, -87.65841, -87.67394, -87.658…\n",
      "$ end_lat            \u001b[3m\u001b[90m<dbl>\u001b[39m\u001b[23m 41.94815, 41.80577, 41.74149, 41.94815, 41.74149, 4…\n",
      "$ end_lng            \u001b[3m\u001b[90m<dbl>\u001b[39m\u001b[23m -87.66394, -87.59246, -87.65841, -87.66394, -87.658…\n",
      "$ member_casual      \u001b[3m\u001b[90m<chr>\u001b[39m\u001b[23m \"member\", \"casual\", \"casual\", \"member\", \"casual\", \"…\n",
      "Rows: 531,633\n",
      "Columns: 13\n",
      "$ ride_id            \u001b[3m\u001b[90m<chr>\u001b[39m\u001b[23m \"C809ED75D6160B2A\", \"DD59FDCE0ACACAF3\", \"0AB83CB88C…\n",
      "$ rideable_type      \u001b[3m\u001b[90m<chr>\u001b[39m\u001b[23m \"electric_bike\", \"electric_bike\", \"electric_bike\", …\n",
      "$ started_at         \u001b[3m\u001b[90m<dttm>\u001b[39m\u001b[23m 2021-05-30 11:58:15, 2021-05-30 11:29:14, 2021-05-…\n",
      "$ ended_at           \u001b[3m\u001b[90m<dttm>\u001b[39m\u001b[23m 2021-05-30 12:10:39, 2021-05-30 12:14:09, 2021-05-…\n",
      "$ start_station_name \u001b[3m\u001b[90m<chr>\u001b[39m\u001b[23m NA, NA, NA, NA, NA, NA, NA, NA, NA, NA, NA, NA, NA,…\n",
      "$ start_station_id   \u001b[3m\u001b[90m<chr>\u001b[39m\u001b[23m NA, NA, NA, NA, NA, NA, NA, NA, NA, NA, NA, NA, NA,…\n",
      "$ end_station_name   \u001b[3m\u001b[90m<chr>\u001b[39m\u001b[23m NA, NA, NA, NA, NA, NA, NA, NA, NA, NA, NA, NA, NA,…\n",
      "$ end_station_id     \u001b[3m\u001b[90m<chr>\u001b[39m\u001b[23m NA, NA, NA, NA, NA, NA, NA, NA, NA, NA, NA, NA, NA,…\n",
      "$ start_lat          \u001b[3m\u001b[90m<dbl>\u001b[39m\u001b[23m 41.90000, 41.88000, 41.92000, 41.92000, 41.94000, 4…\n",
      "$ start_lng          \u001b[3m\u001b[90m<dbl>\u001b[39m\u001b[23m -87.63000, -87.62000, -87.70000, -87.70000, -87.690…\n",
      "$ end_lat            \u001b[3m\u001b[90m<dbl>\u001b[39m\u001b[23m 41.89000, 41.79000, 41.92000, 41.94000, 41.94000, 4…\n",
      "$ end_lng            \u001b[3m\u001b[90m<dbl>\u001b[39m\u001b[23m -87.61000, -87.58000, -87.70000, -87.69000, -87.700…\n",
      "$ member_casual      \u001b[3m\u001b[90m<chr>\u001b[39m\u001b[23m \"casual\", \"casual\", \"casual\", \"casual\", \"casual\", \"…\n",
      "Rows: 729,595\n",
      "Columns: 13\n",
      "$ ride_id            \u001b[3m\u001b[90m<chr>\u001b[39m\u001b[23m \"99FEC93BA843FB20\", \"06048DCFC8520CAF\", \"9598066F68…\n",
      "$ rideable_type      \u001b[3m\u001b[90m<chr>\u001b[39m\u001b[23m \"electric_bike\", \"electric_bike\", \"electric_bike\", …\n",
      "$ started_at         \u001b[3m\u001b[90m<dttm>\u001b[39m\u001b[23m 2021-06-13 14:31:28, 2021-06-04 11:18:02, 2021-06-…\n",
      "$ ended_at           \u001b[3m\u001b[90m<dttm>\u001b[39m\u001b[23m 2021-06-13 14:34:11, 2021-06-04 11:24:19, 2021-06-…\n",
      "$ start_station_name \u001b[3m\u001b[90m<chr>\u001b[39m\u001b[23m NA, NA, NA, NA, NA, NA, NA, NA, NA, NA, NA, NA, NA,…\n",
      "$ start_station_id   \u001b[3m\u001b[90m<chr>\u001b[39m\u001b[23m NA, NA, NA, NA, NA, NA, NA, NA, NA, NA, NA, NA, NA,…\n",
      "$ end_station_name   \u001b[3m\u001b[90m<chr>\u001b[39m\u001b[23m NA, NA, NA, NA, NA, NA, NA, NA, NA, \"Michigan Ave &…\n",
      "$ end_station_id     \u001b[3m\u001b[90m<chr>\u001b[39m\u001b[23m NA, NA, NA, NA, NA, NA, NA, NA, NA, \"13042\", NA, NA…\n",
      "$ start_lat          \u001b[3m\u001b[90m<dbl>\u001b[39m\u001b[23m 41.80, 41.79, 41.80, 41.78, 41.80, 41.78, 41.79, 41…\n",
      "$ start_lng          \u001b[3m\u001b[90m<dbl>\u001b[39m\u001b[23m -87.59, -87.59, -87.60, -87.58, -87.59, -87.58, -87…\n",
      "$ end_lat            \u001b[3m\u001b[90m<dbl>\u001b[39m\u001b[23m 41.80000, 41.80000, 41.79000, 41.80000, 41.79000, 4…\n",
      "$ end_lng            \u001b[3m\u001b[90m<dbl>\u001b[39m\u001b[23m -87.6000, -87.6000, -87.5900, -87.6000, -87.5900, -…\n",
      "$ member_casual      \u001b[3m\u001b[90m<chr>\u001b[39m\u001b[23m \"member\", \"member\", \"member\", \"member\", \"member\", \"…\n",
      "Rows: 822,410\n",
      "Columns: 13\n",
      "$ ride_id            \u001b[3m\u001b[90m<chr>\u001b[39m\u001b[23m \"0A1B623926EF4E16\", \"B2D5583A5A5E76EE\", \"6F264597DD…\n",
      "$ rideable_type      \u001b[3m\u001b[90m<chr>\u001b[39m\u001b[23m \"docked_bike\", \"classic_bike\", \"classic_bike\", \"cla…\n",
      "$ started_at         \u001b[3m\u001b[90m<dttm>\u001b[39m\u001b[23m 2021-07-02 14:44:36, 2021-07-07 16:57:42, 2021-07-…\n",
      "$ ended_at           \u001b[3m\u001b[90m<dttm>\u001b[39m\u001b[23m 2021-07-02 15:19:58, 2021-07-07 17:16:09, 2021-07-…\n",
      "$ start_station_name \u001b[3m\u001b[90m<chr>\u001b[39m\u001b[23m \"Michigan Ave & Washington St\", \"California Ave & C…\n",
      "$ start_station_id   \u001b[3m\u001b[90m<chr>\u001b[39m\u001b[23m \"13001\", \"17660\", \"SL-012\", \"17660\", \"17660\", \"1766…\n",
      "$ end_station_name   \u001b[3m\u001b[90m<chr>\u001b[39m\u001b[23m \"Halsted St & North Branch St\", \"Wood St & Hubbard …\n",
      "$ end_station_id     \u001b[3m\u001b[90m<chr>\u001b[39m\u001b[23m \"KA1504000117\", \"13432\", \"KA1503000044\", \"13196\", \"…\n",
      "$ start_lat          \u001b[3m\u001b[90m<dbl>\u001b[39m\u001b[23m 41.88398, 41.90036, 41.86038, 41.90036, 41.90035, 4…\n",
      "$ start_lng          \u001b[3m\u001b[90m<dbl>\u001b[39m\u001b[23m -87.62468, -87.69670, -87.62581, -87.69670, -87.696…\n",
      "$ end_lat            \u001b[3m\u001b[90m<dbl>\u001b[39m\u001b[23m 41.89937, 41.88990, 41.89017, 41.89456, 41.88659, 4…\n",
      "$ end_lng            \u001b[3m\u001b[90m<dbl>\u001b[39m\u001b[23m -87.64848, -87.67147, -87.62619, -87.65345, -87.658…\n",
      "$ member_casual      \u001b[3m\u001b[90m<chr>\u001b[39m\u001b[23m \"casual\", \"casual\", \"member\", \"member\", \"casual\", \"…\n",
      "Rows: 804,352\n",
      "Columns: 13\n",
      "$ ride_id            \u001b[3m\u001b[90m<chr>\u001b[39m\u001b[23m \"99103BB87CC6C1BB\", \"EAFCCCFB0A3FC5A1\", \"9EF4F46C57…\n",
      "$ rideable_type      \u001b[3m\u001b[90m<chr>\u001b[39m\u001b[23m \"electric_bike\", \"electric_bike\", \"electric_bike\", …\n",
      "$ started_at         \u001b[3m\u001b[90m<dttm>\u001b[39m\u001b[23m 2021-08-10 17:15:49, 2021-08-10 17:23:14, 2021-08-…\n",
      "$ ended_at           \u001b[3m\u001b[90m<dttm>\u001b[39m\u001b[23m 2021-08-10 17:22:44, 2021-08-10 17:39:24, 2021-08-…\n",
      "$ start_station_name \u001b[3m\u001b[90m<chr>\u001b[39m\u001b[23m NA, NA, NA, NA, NA, NA, NA, NA, NA, NA, NA, NA, NA,…\n",
      "$ start_station_id   \u001b[3m\u001b[90m<chr>\u001b[39m\u001b[23m NA, NA, NA, NA, NA, NA, NA, NA, NA, NA, NA, NA, NA,…\n",
      "$ end_station_name   \u001b[3m\u001b[90m<chr>\u001b[39m\u001b[23m NA, NA, NA, NA, NA, NA, NA, \"Clark St & Grace St\", …\n",
      "$ end_station_id     \u001b[3m\u001b[90m<chr>\u001b[39m\u001b[23m NA, NA, NA, NA, NA, NA, NA, \"TA1307000127\", NA, NA,…\n",
      "$ start_lat          \u001b[3m\u001b[90m<dbl>\u001b[39m\u001b[23m 41.77000, 41.77000, 41.95000, 41.97000, 41.79000, 4…\n",
      "$ start_lng          \u001b[3m\u001b[90m<dbl>\u001b[39m\u001b[23m -87.68000, -87.68000, -87.65000, -87.67000, -87.600…\n",
      "$ end_lat            \u001b[3m\u001b[90m<dbl>\u001b[39m\u001b[23m 41.77000, 41.77000, 41.97000, 41.95000, 41.77000, 4…\n",
      "$ end_lng            \u001b[3m\u001b[90m<dbl>\u001b[39m\u001b[23m -87.68000, -87.63000, -87.66000, -87.65000, -87.620…\n",
      "$ member_casual      \u001b[3m\u001b[90m<chr>\u001b[39m\u001b[23m \"member\", \"member\", \"member\", \"member\", \"member\", \"…\n",
      "Rows: 756,147\n",
      "Columns: 13\n",
      "$ ride_id            \u001b[3m\u001b[90m<chr>\u001b[39m\u001b[23m \"9DC7B962304CBFD8\", \"F930E2C6872D6B32\", \"6EF7213790…\n",
      "$ rideable_type      \u001b[3m\u001b[90m<chr>\u001b[39m\u001b[23m \"electric_bike\", \"electric_bike\", \"electric_bike\", …\n",
      "$ started_at         \u001b[3m\u001b[90m<dttm>\u001b[39m\u001b[23m 2021-09-28 16:07:10, 2021-09-28 14:24:51, 2021-09-…\n",
      "$ ended_at           \u001b[3m\u001b[90m<dttm>\u001b[39m\u001b[23m 2021-09-28 16:09:54, 2021-09-28 14:40:05, 2021-09-…\n",
      "$ start_station_name \u001b[3m\u001b[90m<chr>\u001b[39m\u001b[23m NA, NA, NA, NA, NA, NA, NA, NA, NA, NA, \"Clark St &…\n",
      "$ start_station_id   \u001b[3m\u001b[90m<chr>\u001b[39m\u001b[23m NA, NA, NA, NA, NA, NA, NA, NA, NA, NA, \"TA13070001…\n",
      "$ end_station_name   \u001b[3m\u001b[90m<chr>\u001b[39m\u001b[23m NA, NA, NA, NA, NA, NA, NA, NA, NA, NA, NA, NA, NA,…\n",
      "$ end_station_id     \u001b[3m\u001b[90m<chr>\u001b[39m\u001b[23m NA, NA, NA, NA, NA, NA, NA, NA, NA, NA, NA, NA, NA,…\n",
      "$ start_lat          \u001b[3m\u001b[90m<dbl>\u001b[39m\u001b[23m 41.89000, 41.94000, 41.81000, 41.80000, 41.88000, 4…\n",
      "$ start_lng          \u001b[3m\u001b[90m<dbl>\u001b[39m\u001b[23m -87.68000, -87.64000, -87.72000, -87.72000, -87.740…\n",
      "$ end_lat            \u001b[3m\u001b[90m<dbl>\u001b[39m\u001b[23m 41.89, 41.98, 41.80, 41.81, 41.88, 41.88, 41.74, 41…\n",
      "$ end_lng            \u001b[3m\u001b[90m<dbl>\u001b[39m\u001b[23m -87.67, -87.67, -87.72, -87.72, -87.71, -87.74, -87…\n",
      "$ member_casual      \u001b[3m\u001b[90m<chr>\u001b[39m\u001b[23m \"casual\", \"casual\", \"casual\", \"casual\", \"casual\", \"…\n",
      "Rows: 631,226\n",
      "Columns: 13\n",
      "$ ride_id            \u001b[3m\u001b[90m<chr>\u001b[39m\u001b[23m \"620BC6107255BF4C\", \"4471C70731AB2E45\", \"26CA69D43D…\n",
      "$ rideable_type      \u001b[3m\u001b[90m<chr>\u001b[39m\u001b[23m \"electric_bike\", \"electric_bike\", \"electric_bike\", …\n",
      "$ started_at         \u001b[3m\u001b[90m<dttm>\u001b[39m\u001b[23m 2021-10-22 12:46:42, 2021-10-21 09:12:37, 2021-10-…\n",
      "$ ended_at           \u001b[3m\u001b[90m<dttm>\u001b[39m\u001b[23m 2021-10-22 12:49:50, 2021-10-21 09:14:14, 2021-10-…\n",
      "$ start_station_name \u001b[3m\u001b[90m<chr>\u001b[39m\u001b[23m \"Kingsbury St & Kinzie St\", NA, NA, NA, NA, NA, NA,…\n",
      "$ start_station_id   \u001b[3m\u001b[90m<chr>\u001b[39m\u001b[23m \"KA1503000043\", NA, NA, NA, NA, NA, NA, NA, NA, NA,…\n",
      "$ end_station_name   \u001b[3m\u001b[90m<chr>\u001b[39m\u001b[23m NA, NA, NA, NA, NA, NA, NA, NA, NA, NA, NA, NA, NA,…\n",
      "$ end_station_id     \u001b[3m\u001b[90m<chr>\u001b[39m\u001b[23m NA, NA, NA, NA, NA, NA, NA, NA, NA, NA, NA, NA, NA,…\n",
      "$ start_lat          \u001b[3m\u001b[90m<dbl>\u001b[39m\u001b[23m 41.88919, 41.93000, 41.92000, 41.92000, 41.89000, 4…\n",
      "$ start_lng          \u001b[3m\u001b[90m<dbl>\u001b[39m\u001b[23m -87.63850, -87.70000, -87.70000, -87.69000, -87.710…\n",
      "$ end_lat            \u001b[3m\u001b[90m<dbl>\u001b[39m\u001b[23m 41.89000, 41.93000, 41.94000, 41.92000, 41.89000, 4…\n",
      "$ end_lng            \u001b[3m\u001b[90m<dbl>\u001b[39m\u001b[23m -87.63000, -87.71000, -87.72000, -87.69000, -87.690…\n",
      "$ member_casual      \u001b[3m\u001b[90m<chr>\u001b[39m\u001b[23m \"member\", \"member\", \"member\", \"member\", \"member\", \"…\n",
      "Rows: 359,978\n",
      "Columns: 13\n",
      "$ ride_id            \u001b[3m\u001b[90m<chr>\u001b[39m\u001b[23m \"7C00A93E10556E47\", \"90854840DFD508BA\", \"0A7D10CDD1…\n",
      "$ rideable_type      \u001b[3m\u001b[90m<chr>\u001b[39m\u001b[23m \"electric_bike\", \"electric_bike\", \"electric_bike\", …\n",
      "$ started_at         \u001b[3m\u001b[90m<dttm>\u001b[39m\u001b[23m 2021-11-27 13:27:38, 2021-11-27 13:38:25, 2021-11-…\n",
      "$ ended_at           \u001b[3m\u001b[90m<dttm>\u001b[39m\u001b[23m 2021-11-27 13:46:38, 2021-11-27 13:56:10, 2021-11-…\n",
      "$ start_station_name \u001b[3m\u001b[90m<chr>\u001b[39m\u001b[23m NA, NA, NA, NA, NA, \"Michigan Ave & Oak St\", NA, NA…\n",
      "$ start_station_id   \u001b[3m\u001b[90m<chr>\u001b[39m\u001b[23m NA, NA, NA, NA, NA, \"13042\", NA, NA, NA, NA, NA, NA…\n",
      "$ end_station_name   \u001b[3m\u001b[90m<chr>\u001b[39m\u001b[23m NA, NA, NA, NA, NA, NA, NA, NA, NA, NA, NA, NA, NA,…\n",
      "$ end_station_id     \u001b[3m\u001b[90m<chr>\u001b[39m\u001b[23m NA, NA, NA, NA, NA, NA, NA, NA, NA, NA, NA, NA, NA,…\n",
      "$ start_lat          \u001b[3m\u001b[90m<dbl>\u001b[39m\u001b[23m 41.93000, 41.96000, 41.96000, 41.94000, 41.90000, 4…\n",
      "$ start_lng          \u001b[3m\u001b[90m<dbl>\u001b[39m\u001b[23m -87.72000, -87.70000, -87.70000, -87.79000, -87.630…\n",
      "$ end_lat            \u001b[3m\u001b[90m<dbl>\u001b[39m\u001b[23m 41.96, 41.92, 41.96, 41.93, 41.88, 41.90, 41.80, 41…\n",
      "$ end_lng            \u001b[3m\u001b[90m<dbl>\u001b[39m\u001b[23m -87.73, -87.70, -87.70, -87.79, -87.62, -87.63, -87…\n",
      "$ member_casual      \u001b[3m\u001b[90m<chr>\u001b[39m\u001b[23m \"casual\", \"casual\", \"casual\", \"casual\", \"casual\", \"…\n",
      "Rows: 247,540\n",
      "Columns: 13\n",
      "$ ride_id            \u001b[3m\u001b[90m<chr>\u001b[39m\u001b[23m \"46F8167220E4431F\", \"73A77762838B32FD\", \"4CF4245205…\n",
      "$ rideable_type      \u001b[3m\u001b[90m<chr>\u001b[39m\u001b[23m \"electric_bike\", \"electric_bike\", \"electric_bike\", …\n",
      "$ started_at         \u001b[3m\u001b[90m<dttm>\u001b[39m\u001b[23m 2021-12-07 15:06:07, 2021-12-11 03:43:29, 2021-12-…\n",
      "$ ended_at           \u001b[3m\u001b[90m<dttm>\u001b[39m\u001b[23m 2021-12-07 15:13:42, 2021-12-11 04:10:23, 2021-12-…\n",
      "$ start_station_name \u001b[3m\u001b[90m<chr>\u001b[39m\u001b[23m \"Laflin St & Cullerton St\", \"LaSalle Dr & Huron St\"…\n",
      "$ start_station_id   \u001b[3m\u001b[90m<chr>\u001b[39m\u001b[23m \"13307\", \"KP1705001026\", \"KA1504000117\", \"KA1504000…\n",
      "$ end_station_name   \u001b[3m\u001b[90m<chr>\u001b[39m\u001b[23m \"Morgan St & Polk St\", \"Clarendon Ave & Leland Ave\"…\n",
      "$ end_station_id     \u001b[3m\u001b[90m<chr>\u001b[39m\u001b[23m \"TA1307000130\", \"TA1307000119\", \"13137\", \"KP1705001…\n",
      "$ start_lat          \u001b[3m\u001b[90m<dbl>\u001b[39m\u001b[23m 41.85483, 41.89441, 41.89936, 41.89939, 41.89558, 4…\n",
      "$ start_lng          \u001b[3m\u001b[90m<dbl>\u001b[39m\u001b[23m -87.66366, -87.63233, -87.64852, -87.64854, -87.682…\n",
      "$ end_lat            \u001b[3m\u001b[90m<dbl>\u001b[39m\u001b[23m 41.87197, 41.96797, 41.93758, 41.89488, 41.93125, 4…\n",
      "$ end_lng            \u001b[3m\u001b[90m<dbl>\u001b[39m\u001b[23m -87.65097, -87.65000, -87.64410, -87.63233, -87.644…\n",
      "$ member_casual      \u001b[3m\u001b[90m<chr>\u001b[39m\u001b[23m \"member\", \"casual\", \"member\", \"member\", \"member\", \"…\n"
     ]
    }
   ],
   "source": [
    "# Taking a quick view of the data in files\n",
    "\n",
    "glimpse(jan2021)\n",
    "glimpse(feb2021)\n",
    "glimpse(mar2021)\n",
    "glimpse(apr2021)\n",
    "glimpse(may2021)\n",
    "glimpse(jun2021)\n",
    "glimpse(jul2021)\n",
    "glimpse(aug2021)\n",
    "glimpse(sep2021)\n",
    "glimpse(oct2021)\n",
    "glimpse(nov2021)\n",
    "glimpse(dec2021)"
   ]
  },
  {
   "cell_type": "markdown",
   "id": "051f6fb3",
   "metadata": {
    "papermill": {
     "duration": 0.170058,
     "end_time": "2022-01-13T07:00:24.982356",
     "exception": false,
     "start_time": "2022-01-13T07:00:24.812298",
     "status": "completed"
    },
    "tags": []
   },
   "source": [
    "### COMBINE INTO A SINGLE FILE AND REMOVE USELESS COLUMNS\n",
    "\n",
    "### Stack individual month's data frames into one big data frame"
   ]
  },
  {
   "cell_type": "code",
   "execution_count": 4,
   "id": "2d9cae20",
   "metadata": {
    "_cell_guid": "24b18757-4a6b-489d-b1c7-d50690b0c50d",
    "_uuid": "cecda536-2b99-4a69-8394-81ac7790e89a",
    "collapsed": false,
    "execution": {
     "iopub.execute_input": "2022-01-13T07:00:25.329785Z",
     "iopub.status.busy": "2022-01-13T07:00:25.328115Z",
     "iopub.status.idle": "2022-01-13T07:00:49.118460Z",
     "shell.execute_reply": "2022-01-13T07:00:49.117140Z"
    },
    "jupyter": {
     "outputs_hidden": false
    },
    "papermill": {
     "duration": 23.961417,
     "end_time": "2022-01-13T07:00:49.118631",
     "exception": false,
     "start_time": "2022-01-13T07:00:25.157214",
     "status": "completed"
    },
    "tags": []
   },
   "outputs": [],
   "source": [
    "# Combinig all 12 dataframes into single dataframe\n",
    "\n",
    "all_trips <- bind_rows(jan2021, feb2021, mar2021, apr2021, may2021,\n",
    "jun2021, jul2021, aug2021, sep2021, oct2021, nov2021, dec2021)"
   ]
  },
  {
   "cell_type": "code",
   "execution_count": 5,
   "id": "c9a2440c",
   "metadata": {
    "_cell_guid": "7419371a-c16b-4360-af2d-83111998d5f7",
    "_uuid": "0a87680b-21aa-4d7e-b100-cef25f3a5924",
    "collapsed": false,
    "execution": {
     "iopub.execute_input": "2022-01-13T07:00:49.456863Z",
     "iopub.status.busy": "2022-01-13T07:00:49.455427Z",
     "iopub.status.idle": "2022-01-13T07:00:49.478199Z",
     "shell.execute_reply": "2022-01-13T07:00:49.476737Z"
    },
    "jupyter": {
     "outputs_hidden": false
    },
    "papermill": {
     "duration": 0.192489,
     "end_time": "2022-01-13T07:00:49.478373",
     "exception": false,
     "start_time": "2022-01-13T07:00:49.285884",
     "status": "completed"
    },
    "tags": []
   },
   "outputs": [
    {
     "name": "stdout",
     "output_type": "stream",
     "text": [
      "Rows: 5,595,063\n",
      "Columns: 13\n",
      "$ ride_id            \u001b[3m\u001b[90m<chr>\u001b[39m\u001b[23m \"E19E6F1B8D4C42ED\", \"DC88F20C2C55F27F\", \"EC45C94683…\n",
      "$ rideable_type      \u001b[3m\u001b[90m<chr>\u001b[39m\u001b[23m \"electric_bike\", \"electric_bike\", \"electric_bike\", …\n",
      "$ started_at         \u001b[3m\u001b[90m<dttm>\u001b[39m\u001b[23m 2021-01-23 16:14:19, 2021-01-27 18:43:08, 2021-01-…\n",
      "$ ended_at           \u001b[3m\u001b[90m<dttm>\u001b[39m\u001b[23m 2021-01-23 16:24:44, 2021-01-27 18:47:12, 2021-01-…\n",
      "$ start_station_name \u001b[3m\u001b[90m<chr>\u001b[39m\u001b[23m \"California Ave & Cortez St\", \"California Ave & Cor…\n",
      "$ start_station_id   \u001b[3m\u001b[90m<chr>\u001b[39m\u001b[23m \"17660\", \"17660\", \"17660\", \"17660\", \"17660\", \"17660…\n",
      "$ end_station_name   \u001b[3m\u001b[90m<chr>\u001b[39m\u001b[23m NA, NA, NA, NA, NA, NA, NA, NA, NA, \"Wood St & Augu…\n",
      "$ end_station_id     \u001b[3m\u001b[90m<chr>\u001b[39m\u001b[23m NA, NA, NA, NA, NA, NA, NA, NA, NA, \"657\", \"13258\",…\n",
      "$ start_lat          \u001b[3m\u001b[90m<dbl>\u001b[39m\u001b[23m 41.90034, 41.90033, 41.90031, 41.90040, 41.90033, 4…\n",
      "$ start_lng          \u001b[3m\u001b[90m<dbl>\u001b[39m\u001b[23m -87.69674, -87.69671, -87.69664, -87.69666, -87.696…\n",
      "$ end_lat            \u001b[3m\u001b[90m<dbl>\u001b[39m\u001b[23m 41.89000, 41.90000, 41.90000, 41.92000, 41.90000, 4…\n",
      "$ end_lng            \u001b[3m\u001b[90m<dbl>\u001b[39m\u001b[23m -87.72000, -87.69000, -87.70000, -87.69000, -87.700…\n",
      "$ member_casual      \u001b[3m\u001b[90m<chr>\u001b[39m\u001b[23m \"member\", \"member\", \"member\", \"member\", \"casual\", \"…\n"
     ]
    }
   ],
   "source": [
    "# Take a view of all data\n",
    "glimpse(all_trips)"
   ]
  },
  {
   "cell_type": "code",
   "execution_count": 6,
   "id": "1e93d5da",
   "metadata": {
    "_cell_guid": "3c206fd0-c798-4277-98ce-3b0679630707",
    "_uuid": "38ed37b4-1980-4a60-b1cf-20e6d0de65b7",
    "collapsed": false,
    "execution": {
     "iopub.execute_input": "2022-01-13T07:00:49.818457Z",
     "iopub.status.busy": "2022-01-13T07:00:49.817758Z",
     "iopub.status.idle": "2022-01-13T07:00:49.846012Z",
     "shell.execute_reply": "2022-01-13T07:00:49.844685Z"
    },
    "jupyter": {
     "outputs_hidden": false
    },
    "papermill": {
     "duration": 0.201478,
     "end_time": "2022-01-13T07:00:49.846164",
     "exception": false,
     "start_time": "2022-01-13T07:00:49.644686",
     "status": "completed"
    },
    "tags": []
   },
   "outputs": [],
   "source": [
    "# Removing lat, long columns as we don't need it\n",
    "all_trips <- all_trips %>%\n",
    "select(-c(start_lat, start_lng, end_lat, end_lng))"
   ]
  },
  {
   "cell_type": "code",
   "execution_count": 7,
   "id": "429f0083",
   "metadata": {
    "execution": {
     "iopub.execute_input": "2022-01-13T07:00:50.186590Z",
     "iopub.status.busy": "2022-01-13T07:00:50.184983Z",
     "iopub.status.idle": "2022-01-13T07:00:53.006644Z",
     "shell.execute_reply": "2022-01-13T07:00:53.004911Z"
    },
    "papermill": {
     "duration": 2.993799,
     "end_time": "2022-01-13T07:00:53.006793",
     "exception": false,
     "start_time": "2022-01-13T07:00:50.012994",
     "status": "completed"
    },
    "tags": []
   },
   "outputs": [
    {
     "data": {
      "text/html": [
       "<style>\n",
       ".list-inline {list-style: none; margin:0; padding: 0}\n",
       ".list-inline>li {display: inline-block}\n",
       ".list-inline>li:not(:last-child)::after {content: \"\\00b7\"; padding: 0 .5ex}\n",
       "</style>\n",
       "<ol class=list-inline><li>'ride_id'</li><li>'rideable_type'</li><li>'started_at'</li><li>'ended_at'</li><li>'start_station_name'</li><li>'start_station_id'</li><li>'end_station_name'</li><li>'end_station_id'</li><li>'member_casual'</li></ol>\n"
      ],
      "text/latex": [
       "\\begin{enumerate*}\n",
       "\\item 'ride\\_id'\n",
       "\\item 'rideable\\_type'\n",
       "\\item 'started\\_at'\n",
       "\\item 'ended\\_at'\n",
       "\\item 'start\\_station\\_name'\n",
       "\\item 'start\\_station\\_id'\n",
       "\\item 'end\\_station\\_name'\n",
       "\\item 'end\\_station\\_id'\n",
       "\\item 'member\\_casual'\n",
       "\\end{enumerate*}\n"
      ],
      "text/markdown": [
       "1. 'ride_id'\n",
       "2. 'rideable_type'\n",
       "3. 'started_at'\n",
       "4. 'ended_at'\n",
       "5. 'start_station_name'\n",
       "6. 'start_station_id'\n",
       "7. 'end_station_name'\n",
       "8. 'end_station_id'\n",
       "9. 'member_casual'\n",
       "\n",
       "\n"
      ],
      "text/plain": [
       "[1] \"ride_id\"            \"rideable_type\"      \"started_at\"        \n",
       "[4] \"ended_at\"           \"start_station_name\" \"start_station_id\"  \n",
       "[7] \"end_station_name\"   \"end_station_id\"     \"member_casual\"     "
      ]
     },
     "metadata": {},
     "output_type": "display_data"
    },
    {
     "data": {
      "text/html": [
       "5595063"
      ],
      "text/latex": [
       "5595063"
      ],
      "text/markdown": [
       "5595063"
      ],
      "text/plain": [
       "[1] 5595063"
      ]
     },
     "metadata": {},
     "output_type": "display_data"
    },
    {
     "data": {
      "text/html": [
       "<style>\n",
       ".list-inline {list-style: none; margin:0; padding: 0}\n",
       ".list-inline>li {display: inline-block}\n",
       ".list-inline>li:not(:last-child)::after {content: \"\\00b7\"; padding: 0 .5ex}\n",
       "</style>\n",
       "<ol class=list-inline><li>5595063</li><li>9</li></ol>\n"
      ],
      "text/latex": [
       "\\begin{enumerate*}\n",
       "\\item 5595063\n",
       "\\item 9\n",
       "\\end{enumerate*}\n"
      ],
      "text/markdown": [
       "1. 5595063\n",
       "2. 9\n",
       "\n",
       "\n"
      ],
      "text/plain": [
       "[1] 5595063       9"
      ]
     },
     "metadata": {},
     "output_type": "display_data"
    },
    {
     "data": {
      "text/html": [
       "<table class=\"dataframe\">\n",
       "<caption>A tibble: 6 × 9</caption>\n",
       "<thead>\n",
       "\t<tr><th scope=col>ride_id</th><th scope=col>rideable_type</th><th scope=col>started_at</th><th scope=col>ended_at</th><th scope=col>start_station_name</th><th scope=col>start_station_id</th><th scope=col>end_station_name</th><th scope=col>end_station_id</th><th scope=col>member_casual</th></tr>\n",
       "\t<tr><th scope=col>&lt;chr&gt;</th><th scope=col>&lt;chr&gt;</th><th scope=col>&lt;dttm&gt;</th><th scope=col>&lt;dttm&gt;</th><th scope=col>&lt;chr&gt;</th><th scope=col>&lt;chr&gt;</th><th scope=col>&lt;chr&gt;</th><th scope=col>&lt;chr&gt;</th><th scope=col>&lt;chr&gt;</th></tr>\n",
       "</thead>\n",
       "<tbody>\n",
       "\t<tr><td>E19E6F1B8D4C42ED</td><td>electric_bike</td><td>2021-01-23 16:14:19</td><td>2021-01-23 16:24:44</td><td>California Ave &amp; Cortez St</td><td>17660</td><td>NA</td><td>NA</td><td>member</td></tr>\n",
       "\t<tr><td>DC88F20C2C55F27F</td><td>electric_bike</td><td>2021-01-27 18:43:08</td><td>2021-01-27 18:47:12</td><td>California Ave &amp; Cortez St</td><td>17660</td><td>NA</td><td>NA</td><td>member</td></tr>\n",
       "\t<tr><td>EC45C94683FE3F27</td><td>electric_bike</td><td>2021-01-21 22:35:54</td><td>2021-01-21 22:37:14</td><td>California Ave &amp; Cortez St</td><td>17660</td><td>NA</td><td>NA</td><td>member</td></tr>\n",
       "\t<tr><td>4FA453A75AE377DB</td><td>electric_bike</td><td>2021-01-07 13:31:13</td><td>2021-01-07 13:42:55</td><td>California Ave &amp; Cortez St</td><td>17660</td><td>NA</td><td>NA</td><td>member</td></tr>\n",
       "\t<tr><td>BE5E8EB4E7263A0B</td><td>electric_bike</td><td>2021-01-23 02:24:02</td><td>2021-01-23 02:24:45</td><td>California Ave &amp; Cortez St</td><td>17660</td><td>NA</td><td>NA</td><td>casual</td></tr>\n",
       "\t<tr><td>5D8969F88C773979</td><td>electric_bike</td><td>2021-01-09 14:24:07</td><td>2021-01-09 15:17:54</td><td>California Ave &amp; Cortez St</td><td>17660</td><td>NA</td><td>NA</td><td>casual</td></tr>\n",
       "</tbody>\n",
       "</table>\n"
      ],
      "text/latex": [
       "A tibble: 6 × 9\n",
       "\\begin{tabular}{lllllllll}\n",
       " ride\\_id & rideable\\_type & started\\_at & ended\\_at & start\\_station\\_name & start\\_station\\_id & end\\_station\\_name & end\\_station\\_id & member\\_casual\\\\\n",
       " <chr> & <chr> & <dttm> & <dttm> & <chr> & <chr> & <chr> & <chr> & <chr>\\\\\n",
       "\\hline\n",
       "\t E19E6F1B8D4C42ED & electric\\_bike & 2021-01-23 16:14:19 & 2021-01-23 16:24:44 & California Ave \\& Cortez St & 17660 & NA & NA & member\\\\\n",
       "\t DC88F20C2C55F27F & electric\\_bike & 2021-01-27 18:43:08 & 2021-01-27 18:47:12 & California Ave \\& Cortez St & 17660 & NA & NA & member\\\\\n",
       "\t EC45C94683FE3F27 & electric\\_bike & 2021-01-21 22:35:54 & 2021-01-21 22:37:14 & California Ave \\& Cortez St & 17660 & NA & NA & member\\\\\n",
       "\t 4FA453A75AE377DB & electric\\_bike & 2021-01-07 13:31:13 & 2021-01-07 13:42:55 & California Ave \\& Cortez St & 17660 & NA & NA & member\\\\\n",
       "\t BE5E8EB4E7263A0B & electric\\_bike & 2021-01-23 02:24:02 & 2021-01-23 02:24:45 & California Ave \\& Cortez St & 17660 & NA & NA & casual\\\\\n",
       "\t 5D8969F88C773979 & electric\\_bike & 2021-01-09 14:24:07 & 2021-01-09 15:17:54 & California Ave \\& Cortez St & 17660 & NA & NA & casual\\\\\n",
       "\\end{tabular}\n"
      ],
      "text/markdown": [
       "\n",
       "A tibble: 6 × 9\n",
       "\n",
       "| ride_id &lt;chr&gt; | rideable_type &lt;chr&gt; | started_at &lt;dttm&gt; | ended_at &lt;dttm&gt; | start_station_name &lt;chr&gt; | start_station_id &lt;chr&gt; | end_station_name &lt;chr&gt; | end_station_id &lt;chr&gt; | member_casual &lt;chr&gt; |\n",
       "|---|---|---|---|---|---|---|---|---|\n",
       "| E19E6F1B8D4C42ED | electric_bike | 2021-01-23 16:14:19 | 2021-01-23 16:24:44 | California Ave &amp; Cortez St | 17660 | NA | NA | member |\n",
       "| DC88F20C2C55F27F | electric_bike | 2021-01-27 18:43:08 | 2021-01-27 18:47:12 | California Ave &amp; Cortez St | 17660 | NA | NA | member |\n",
       "| EC45C94683FE3F27 | electric_bike | 2021-01-21 22:35:54 | 2021-01-21 22:37:14 | California Ave &amp; Cortez St | 17660 | NA | NA | member |\n",
       "| 4FA453A75AE377DB | electric_bike | 2021-01-07 13:31:13 | 2021-01-07 13:42:55 | California Ave &amp; Cortez St | 17660 | NA | NA | member |\n",
       "| BE5E8EB4E7263A0B | electric_bike | 2021-01-23 02:24:02 | 2021-01-23 02:24:45 | California Ave &amp; Cortez St | 17660 | NA | NA | casual |\n",
       "| 5D8969F88C773979 | electric_bike | 2021-01-09 14:24:07 | 2021-01-09 15:17:54 | California Ave &amp; Cortez St | 17660 | NA | NA | casual |\n",
       "\n"
      ],
      "text/plain": [
       "  ride_id          rideable_type started_at          ended_at           \n",
       "1 E19E6F1B8D4C42ED electric_bike 2021-01-23 16:14:19 2021-01-23 16:24:44\n",
       "2 DC88F20C2C55F27F electric_bike 2021-01-27 18:43:08 2021-01-27 18:47:12\n",
       "3 EC45C94683FE3F27 electric_bike 2021-01-21 22:35:54 2021-01-21 22:37:14\n",
       "4 4FA453A75AE377DB electric_bike 2021-01-07 13:31:13 2021-01-07 13:42:55\n",
       "5 BE5E8EB4E7263A0B electric_bike 2021-01-23 02:24:02 2021-01-23 02:24:45\n",
       "6 5D8969F88C773979 electric_bike 2021-01-09 14:24:07 2021-01-09 15:17:54\n",
       "  start_station_name         start_station_id end_station_name end_station_id\n",
       "1 California Ave & Cortez St 17660            NA               NA            \n",
       "2 California Ave & Cortez St 17660            NA               NA            \n",
       "3 California Ave & Cortez St 17660            NA               NA            \n",
       "4 California Ave & Cortez St 17660            NA               NA            \n",
       "5 California Ave & Cortez St 17660            NA               NA            \n",
       "6 California Ave & Cortez St 17660            NA               NA            \n",
       "  member_casual\n",
       "1 member       \n",
       "2 member       \n",
       "3 member       \n",
       "4 member       \n",
       "5 casual       \n",
       "6 casual       "
      ]
     },
     "metadata": {},
     "output_type": "display_data"
    },
    {
     "name": "stdout",
     "output_type": "stream",
     "text": [
      "tibble [5,595,063 × 9] (S3: tbl_df/tbl/data.frame)\n",
      " $ ride_id           : chr [1:5595063] \"E19E6F1B8D4C42ED\" \"DC88F20C2C55F27F\" \"EC45C94683FE3F27\" \"4FA453A75AE377DB\" ...\n",
      " $ rideable_type     : chr [1:5595063] \"electric_bike\" \"electric_bike\" \"electric_bike\" \"electric_bike\" ...\n",
      " $ started_at        : POSIXct[1:5595063], format: \"2021-01-23 16:14:19\" \"2021-01-27 18:43:08\" ...\n",
      " $ ended_at          : POSIXct[1:5595063], format: \"2021-01-23 16:24:44\" \"2021-01-27 18:47:12\" ...\n",
      " $ start_station_name: chr [1:5595063] \"California Ave & Cortez St\" \"California Ave & Cortez St\" \"California Ave & Cortez St\" \"California Ave & Cortez St\" ...\n",
      " $ start_station_id  : chr [1:5595063] \"17660\" \"17660\" \"17660\" \"17660\" ...\n",
      " $ end_station_name  : chr [1:5595063] NA NA NA NA ...\n",
      " $ end_station_id    : chr [1:5595063] NA NA NA NA ...\n",
      " $ member_casual     : chr [1:5595063] \"member\" \"member\" \"member\" \"member\" ...\n"
     ]
    },
    {
     "data": {
      "text/plain": [
       "   ride_id          rideable_type        started_at                 \n",
       " Length:5595063     Length:5595063     Min.   :2021-01-01 00:02:05  \n",
       " Class :character   Class :character   1st Qu.:2021-06-06 23:52:40  \n",
       " Mode  :character   Mode  :character   Median :2021-08-01 01:52:11  \n",
       "                                       Mean   :2021-07-29 07:41:02  \n",
       "                                       3rd Qu.:2021-09-24 16:36:16  \n",
       "                                       Max.   :2021-12-31 23:59:48  \n",
       "    ended_at                   start_station_name start_station_id  \n",
       " Min.   :2021-01-01 00:08:39   Length:5595063     Length:5595063    \n",
       " 1st Qu.:2021-06-07 00:44:21   Class :character   Class :character  \n",
       " Median :2021-08-01 02:21:55   Mode  :character   Mode  :character  \n",
       " Mean   :2021-07-29 08:02:58                                        \n",
       " 3rd Qu.:2021-09-24 16:54:05                                        \n",
       " Max.   :2022-01-03 17:32:18                                        \n",
       " end_station_name   end_station_id     member_casual     \n",
       " Length:5595063     Length:5595063     Length:5595063    \n",
       " Class :character   Class :character   Class :character  \n",
       " Mode  :character   Mode  :character   Mode  :character  \n",
       "                                                         \n",
       "                                                         \n",
       "                                                         "
      ]
     },
     "metadata": {},
     "output_type": "display_data"
    }
   ],
   "source": [
    "# Inspect the new table that has been created\n",
    "colnames(all_trips) #List of column names\n",
    "nrow(all_trips) #How many rows are in data frame?\n",
    "dim(all_trips) #Dimensions of the data frame?\n",
    "head(all_trips) #See the first 6 rows of data frame. Also tail(all_trips)\n",
    "str(all_trips) #See list of columns and data types (numeric, character, etc)\n",
    "summary(all_trips) #Statistical summary of data. Mainly for numerics"
   ]
  },
  {
   "cell_type": "markdown",
   "id": "5e3502fc",
   "metadata": {
    "papermill": {
     "duration": 0.178353,
     "end_time": "2022-01-13T07:00:53.368592",
     "exception": false,
     "start_time": "2022-01-13T07:00:53.190239",
     "status": "completed"
    },
    "tags": []
   },
   "source": [
    "#### As table contains many null values so we have to remove records containing null"
   ]
  },
  {
   "cell_type": "code",
   "execution_count": 8,
   "id": "f34b0965",
   "metadata": {
    "_cell_guid": "cc40ecf0-0c5b-4109-87bf-a8cb7a464d8e",
    "_uuid": "b920a3eb-1f3a-4d12-9f78-1275135d51c2",
    "collapsed": false,
    "execution": {
     "iopub.execute_input": "2022-01-13T07:00:53.737374Z",
     "iopub.status.busy": "2022-01-13T07:00:53.735803Z",
     "iopub.status.idle": "2022-01-13T07:00:56.378071Z",
     "shell.execute_reply": "2022-01-13T07:00:56.376640Z"
    },
    "jupyter": {
     "outputs_hidden": false
    },
    "papermill": {
     "duration": 2.827925,
     "end_time": "2022-01-13T07:00:56.378237",
     "exception": false,
     "start_time": "2022-01-13T07:00:53.550312",
     "status": "completed"
    },
    "tags": []
   },
   "outputs": [],
   "source": [
    "# Dropping rows containing null values and storing into new dataframe\n",
    "all_trips_v2 <- drop_na(all_trips)"
   ]
  },
  {
   "cell_type": "markdown",
   "id": "8efc2d7c",
   "metadata": {
    "papermill": {
     "duration": 0.182952,
     "end_time": "2022-01-13T07:00:56.741519",
     "exception": false,
     "start_time": "2022-01-13T07:00:56.558567",
     "status": "completed"
    },
    "tags": []
   },
   "source": [
    "### It's time to add some new columns so that we can analyze data more accurately and efficiently"
   ]
  },
  {
   "cell_type": "code",
   "execution_count": 9,
   "id": "799d3f5c",
   "metadata": {
    "_cell_guid": "f0458fd4-dbd1-4a14-b42c-cb73a65994f5",
    "_uuid": "f43b17e4-718e-4ccd-a55a-5fd58be0e1a2",
    "collapsed": false,
    "execution": {
     "iopub.execute_input": "2022-01-13T07:00:57.108928Z",
     "iopub.status.busy": "2022-01-13T07:00:57.107575Z",
     "iopub.status.idle": "2022-01-13T07:01:05.662307Z",
     "shell.execute_reply": "2022-01-13T07:01:05.660683Z"
    },
    "jupyter": {
     "outputs_hidden": false
    },
    "papermill": {
     "duration": 8.740437,
     "end_time": "2022-01-13T07:01:05.662491",
     "exception": false,
     "start_time": "2022-01-13T07:00:56.922054",
     "status": "completed"
    },
    "tags": []
   },
   "outputs": [],
   "source": [
    "# Add columns that list the date, month, day, and year of each ride\n",
    "all_trips_v2$date <- as.Date(all_trips_v2$started_at) #The default format is yyyy-mm-dd\n",
    "all_trips_v2$month <- format(as.Date(all_trips_v2$date), \"%m\")\n",
    "all_trips_v2$day <- format(as.Date(all_trips_v2$date), \"%d\")\n",
    "all_trips_v2$year <- format(as.Date(all_trips_v2$date), \"%Y\")\n",
    "all_trips_v2$day_of_week <- format(as.Date(all_trips_v2$date), \"%A\")"
   ]
  },
  {
   "cell_type": "code",
   "execution_count": 10,
   "id": "133863b3",
   "metadata": {
    "_cell_guid": "a355279e-6446-43b2-93e2-cb069c05d040",
    "_uuid": "65d7c240-0eb9-4453-8453-cd0cbdc49a82",
    "collapsed": false,
    "execution": {
     "iopub.execute_input": "2022-01-13T07:01:06.030554Z",
     "iopub.status.busy": "2022-01-13T07:01:06.028485Z",
     "iopub.status.idle": "2022-01-13T07:01:06.079589Z",
     "shell.execute_reply": "2022-01-13T07:01:06.077981Z"
    },
    "jupyter": {
     "outputs_hidden": false
    },
    "papermill": {
     "duration": 0.235806,
     "end_time": "2022-01-13T07:01:06.079740",
     "exception": false,
     "start_time": "2022-01-13T07:01:05.843934",
     "status": "completed"
    },
    "tags": []
   },
   "outputs": [],
   "source": [
    "# Add a \"ride_length\" calculation to all_trips (in seconds)\n",
    "all_trips_v2$ride_length <- difftime(all_trips_v2$ended_at,all_trips_v2$started_at)"
   ]
  },
  {
   "cell_type": "code",
   "execution_count": 11,
   "id": "d76982ae",
   "metadata": {
    "_cell_guid": "40fb817f-0c69-4878-bbea-95b2487601d5",
    "_uuid": "d9a8df4b-dd30-4369-a299-44fb0ba1e8c6",
    "collapsed": false,
    "execution": {
     "iopub.execute_input": "2022-01-13T07:01:06.450528Z",
     "iopub.status.busy": "2022-01-13T07:01:06.448789Z",
     "iopub.status.idle": "2022-01-13T07:01:06.499109Z",
     "shell.execute_reply": "2022-01-13T07:01:06.497198Z"
    },
    "jupyter": {
     "outputs_hidden": false
    },
    "papermill": {
     "duration": 0.238484,
     "end_time": "2022-01-13T07:01:06.499274",
     "exception": false,
     "start_time": "2022-01-13T07:01:06.260790",
     "status": "completed"
    },
    "tags": []
   },
   "outputs": [
    {
     "name": "stdout",
     "output_type": "stream",
     "text": [
      "tibble [4,588,302 × 15] (S3: tbl_df/tbl/data.frame)\n",
      " $ ride_id           : chr [1:4588302] \"B9F73448DFBE0D45\" \"457C7F4B5D3DA135\" \"57C750326F9FDABE\" \"4D518C65E338D070\" ...\n",
      " $ rideable_type     : chr [1:4588302] \"classic_bike\" \"electric_bike\" \"electric_bike\" \"electric_bike\" ...\n",
      " $ started_at        : POSIXct[1:4588302], format: \"2021-01-24 19:15:38\" \"2021-01-23 12:57:38\" ...\n",
      " $ ended_at          : POSIXct[1:4588302], format: \"2021-01-24 19:22:51\" \"2021-01-23 13:02:10\" ...\n",
      " $ start_station_name: chr [1:4588302] \"California Ave & Cortez St\" \"California Ave & Cortez St\" \"California Ave & Cortez St\" \"California Ave & Cortez St\" ...\n",
      " $ start_station_id  : chr [1:4588302] \"17660\" \"17660\" \"17660\" \"17660\" ...\n",
      " $ end_station_name  : chr [1:4588302] \"Wood St & Augusta Blvd\" \"California Ave & North Ave\" \"Wood St & Augusta Blvd\" \"Wood St & Augusta Blvd\" ...\n",
      " $ end_station_id    : chr [1:4588302] \"657\" \"13258\" \"657\" \"657\" ...\n",
      " $ member_casual     : chr [1:4588302] \"member\" \"member\" \"casual\" \"casual\" ...\n",
      " $ date              : Date[1:4588302], format: \"2021-01-24\" \"2021-01-23\" ...\n",
      " $ month             : chr [1:4588302] \"01\" \"01\" \"01\" \"01\" ...\n",
      " $ day               : chr [1:4588302] \"24\" \"23\" \"09\" \"09\" ...\n",
      " $ year              : chr [1:4588302] \"2021\" \"2021\" \"2021\" \"2021\" ...\n",
      " $ day_of_week       : chr [1:4588302] \"Sunday\" \"Saturday\" \"Saturday\" \"Saturday\" ...\n",
      " $ ride_length       : 'difftime' num [1:4588302] 433 272 587 537 ...\n",
      "  ..- attr(*, \"units\")= chr \"secs\"\n"
     ]
    }
   ],
   "source": [
    "# Inspect the structure of the columns\n",
    "str(all_trips_v2)"
   ]
  },
  {
   "cell_type": "code",
   "execution_count": 12,
   "id": "e1f5faa1",
   "metadata": {
    "execution": {
     "iopub.execute_input": "2022-01-13T07:01:06.868177Z",
     "iopub.status.busy": "2022-01-13T07:01:06.866136Z",
     "iopub.status.idle": "2022-01-13T07:01:12.981282Z",
     "shell.execute_reply": "2022-01-13T07:01:12.979630Z"
    },
    "papermill": {
     "duration": 6.300781,
     "end_time": "2022-01-13T07:01:12.981433",
     "exception": false,
     "start_time": "2022-01-13T07:01:06.680652",
     "status": "completed"
    },
    "tags": []
   },
   "outputs": [
    {
     "data": {
      "text/html": [
       "FALSE"
      ],
      "text/latex": [
       "FALSE"
      ],
      "text/markdown": [
       "FALSE"
      ],
      "text/plain": [
       "[1] FALSE"
      ]
     },
     "metadata": {},
     "output_type": "display_data"
    },
    {
     "data": {
      "text/html": [
       "TRUE"
      ],
      "text/latex": [
       "TRUE"
      ],
      "text/markdown": [
       "TRUE"
      ],
      "text/plain": [
       "[1] TRUE"
      ]
     },
     "metadata": {},
     "output_type": "display_data"
    }
   ],
   "source": [
    "# Convert \"ride_length\" from Factor to numeric so we can run calculations on the data\n",
    "is.factor(all_trips_v2$ride_length)\n",
    "all_trips_v2$ride_length <- as.numeric(as.character(all_trips_v2$ride_length))\n",
    "is.numeric(all_trips_v2$ride_length)"
   ]
  },
  {
   "cell_type": "code",
   "execution_count": 13,
   "id": "86e3fae5",
   "metadata": {
    "execution": {
     "iopub.execute_input": "2022-01-13T07:01:13.359986Z",
     "iopub.status.busy": "2022-01-13T07:01:13.358425Z",
     "iopub.status.idle": "2022-01-13T07:01:14.255729Z",
     "shell.execute_reply": "2022-01-13T07:01:14.254034Z"
    },
    "papermill": {
     "duration": 1.088204,
     "end_time": "2022-01-13T07:01:14.255917",
     "exception": false,
     "start_time": "2022-01-13T07:01:13.167713",
     "status": "completed"
    },
    "tags": []
   },
   "outputs": [
    {
     "name": "stdout",
     "output_type": "stream",
     "text": [
      "Rows: 4,588,186\n",
      "Columns: 15\n",
      "$ ride_id            \u001b[3m\u001b[90m<chr>\u001b[39m\u001b[23m \"B9F73448DFBE0D45\", \"457C7F4B5D3DA135\", \"57C750326F…\n",
      "$ rideable_type      \u001b[3m\u001b[90m<chr>\u001b[39m\u001b[23m \"classic_bike\", \"electric_bike\", \"electric_bike\", \"…\n",
      "$ started_at         \u001b[3m\u001b[90m<dttm>\u001b[39m\u001b[23m 2021-01-24 19:15:38, 2021-01-23 12:57:38, 2021-01-…\n",
      "$ ended_at           \u001b[3m\u001b[90m<dttm>\u001b[39m\u001b[23m 2021-01-24 19:22:51, 2021-01-23 13:02:10, 2021-01-…\n",
      "$ start_station_name \u001b[3m\u001b[90m<chr>\u001b[39m\u001b[23m \"California Ave & Cortez St\", \"California Ave & Cor…\n",
      "$ start_station_id   \u001b[3m\u001b[90m<chr>\u001b[39m\u001b[23m \"17660\", \"17660\", \"17660\", \"17660\", \"17660\", \"17660…\n",
      "$ end_station_name   \u001b[3m\u001b[90m<chr>\u001b[39m\u001b[23m \"Wood St & Augusta Blvd\", \"California Ave & North A…\n",
      "$ end_station_id     \u001b[3m\u001b[90m<chr>\u001b[39m\u001b[23m \"657\", \"13258\", \"657\", \"657\", \"657\", \"KA1504000135\"…\n",
      "$ member_casual      \u001b[3m\u001b[90m<chr>\u001b[39m\u001b[23m \"member\", \"member\", \"casual\", \"casual\", \"casual\", \"…\n",
      "$ date               \u001b[3m\u001b[90m<date>\u001b[39m\u001b[23m 2021-01-24, 2021-01-23, 2021-01-09, 2021-01-09, 20…\n",
      "$ month              \u001b[3m\u001b[90m<chr>\u001b[39m\u001b[23m \"01\", \"01\", \"01\", \"01\", \"01\", \"01\", \"01\", \"01\", \"01…\n",
      "$ day                \u001b[3m\u001b[90m<chr>\u001b[39m\u001b[23m \"24\", \"23\", \"09\", \"09\", \"24\", \"22\", \"05\", \"30\", \"27…\n",
      "$ year               \u001b[3m\u001b[90m<chr>\u001b[39m\u001b[23m \"2021\", \"2021\", \"2021\", \"2021\", \"2021\", \"2021\", \"20…\n",
      "$ day_of_week        \u001b[3m\u001b[90m<chr>\u001b[39m\u001b[23m \"Sunday\", \"Saturday\", \"Saturday\", \"Saturday\", \"Sund…\n",
      "$ ride_length        \u001b[3m\u001b[90m<dbl>\u001b[39m\u001b[23m 433, 272, 587, 537, 609, 1233, 360, 268, 1103, 1025…\n"
     ]
    }
   ],
   "source": [
    "# Remove \"bad\" data\n",
    "# The dataframe includes a few hundred entries when bikes ride_length was negative\n",
    "# We will create another version of the dataframe (v3) since data is being removed\n",
    "all_trips_v3 <- all_trips_v2[!(all_trips_v2$ride_length<0),]\n",
    "glimpse(all_trips_v3)"
   ]
  },
  {
   "cell_type": "markdown",
   "id": "bfcc4a72",
   "metadata": {
    "papermill": {
     "duration": 0.189398,
     "end_time": "2022-01-13T07:01:14.631992",
     "exception": false,
     "start_time": "2022-01-13T07:01:14.442594",
     "status": "completed"
    },
    "tags": []
   },
   "source": [
    "## So, we have done data cleaning, and data processing steps amd now our data is ready for the analysis phase."
   ]
  },
  {
   "cell_type": "markdown",
   "id": "f3f0ed97",
   "metadata": {
    "papermill": {
     "duration": 0.18903,
     "end_time": "2022-01-13T07:01:15.015747",
     "exception": false,
     "start_time": "2022-01-13T07:01:14.826717",
     "status": "completed"
    },
    "tags": []
   },
   "source": [
    "# 4- Analyze Phase\n",
    "\n",
    "### In this phase, I have performed some calculations and formatting. Also, I have identified and analyzed the trends and relationship. All steps are given in the code below."
   ]
  },
  {
   "cell_type": "code",
   "execution_count": 14,
   "id": "f86bc399",
   "metadata": {
    "execution": {
     "iopub.execute_input": "2022-01-13T07:01:15.398526Z",
     "iopub.status.busy": "2022-01-13T07:01:15.396363Z",
     "iopub.status.idle": "2022-01-13T07:01:15.621022Z",
     "shell.execute_reply": "2022-01-13T07:01:15.619535Z"
    },
    "papermill": {
     "duration": 0.417626,
     "end_time": "2022-01-13T07:01:15.621195",
     "exception": false,
     "start_time": "2022-01-13T07:01:15.203569",
     "status": "completed"
    },
    "tags": []
   },
   "outputs": [
    {
     "data": {
      "text/html": [
       "1308.69209770484"
      ],
      "text/latex": [
       "1308.69209770484"
      ],
      "text/markdown": [
       "1308.69209770484"
      ],
      "text/plain": [
       "[1] 1308.692"
      ]
     },
     "metadata": {},
     "output_type": "display_data"
    },
    {
     "data": {
      "text/html": [
       "732"
      ],
      "text/latex": [
       "732"
      ],
      "text/markdown": [
       "732"
      ],
      "text/plain": [
       "[1] 732"
      ]
     },
     "metadata": {},
     "output_type": "display_data"
    },
    {
     "data": {
      "text/html": [
       "3356649"
      ],
      "text/latex": [
       "3356649"
      ],
      "text/markdown": [
       "3356649"
      ],
      "text/plain": [
       "[1] 3356649"
      ]
     },
     "metadata": {},
     "output_type": "display_data"
    },
    {
     "data": {
      "text/html": [
       "0"
      ],
      "text/latex": [
       "0"
      ],
      "text/markdown": [
       "0"
      ],
      "text/plain": [
       "[1] 0"
      ]
     },
     "metadata": {},
     "output_type": "display_data"
    }
   ],
   "source": [
    "# Descriptive analysis on ride_length (all figures in seconds)\n",
    "mean(all_trips_v3$ride_length) #straight average (total ride length / rides)\n",
    "median(all_trips_v3$ride_length) #midpoint number in the ascending array of ride lengths\n",
    "max(all_trips_v3$ride_length) #longest ride\n",
    "min(all_trips_v3$ride_length) #shortest ride"
   ]
  },
  {
   "cell_type": "code",
   "execution_count": 15,
   "id": "2bcdb436",
   "metadata": {
    "execution": {
     "iopub.execute_input": "2022-01-13T07:01:16.028528Z",
     "iopub.status.busy": "2022-01-13T07:01:16.027032Z",
     "iopub.status.idle": "2022-01-13T07:01:17.319630Z",
     "shell.execute_reply": "2022-01-13T07:01:17.318061Z"
    },
    "papermill": {
     "duration": 1.496115,
     "end_time": "2022-01-13T07:01:17.319786",
     "exception": false,
     "start_time": "2022-01-13T07:01:15.823671",
     "status": "completed"
    },
    "tags": []
   },
   "outputs": [
    {
     "data": {
      "text/plain": [
       "   Min. 1st Qu.  Median    Mean 3rd Qu.    Max. \n",
       "      0     417     732    1309    1327 3356649 "
      ]
     },
     "metadata": {},
     "output_type": "display_data"
    }
   ],
   "source": [
    "# We can condense the four lines above to one line using summary() on the specific attribute\n",
    "summary(all_trips_v3$ride_length)"
   ]
  },
  {
   "cell_type": "code",
   "execution_count": 16,
   "id": "7a5f3cbd",
   "metadata": {
    "execution": {
     "iopub.execute_input": "2022-01-13T07:01:17.728862Z",
     "iopub.status.busy": "2022-01-13T07:01:17.727007Z",
     "iopub.status.idle": "2022-01-13T07:01:32.985694Z",
     "shell.execute_reply": "2022-01-13T07:01:32.984241Z"
    },
    "papermill": {
     "duration": 15.464429,
     "end_time": "2022-01-13T07:01:32.985933",
     "exception": false,
     "start_time": "2022-01-13T07:01:17.521504",
     "status": "completed"
    },
    "tags": []
   },
   "outputs": [
    {
     "data": {
      "text/html": [
       "<table class=\"dataframe\">\n",
       "<caption>A data.frame: 2 × 2</caption>\n",
       "<thead>\n",
       "\t<tr><th scope=col>all_trips_v3$member_casual</th><th scope=col>all_trips_v3$ride_length</th></tr>\n",
       "\t<tr><th scope=col>&lt;chr&gt;</th><th scope=col>&lt;dbl&gt;</th></tr>\n",
       "</thead>\n",
       "<tbody>\n",
       "\t<tr><td>casual</td><td>1950.5776</td></tr>\n",
       "\t<tr><td>member</td><td> 791.0253</td></tr>\n",
       "</tbody>\n",
       "</table>\n"
      ],
      "text/latex": [
       "A data.frame: 2 × 2\n",
       "\\begin{tabular}{ll}\n",
       " all\\_trips\\_v3\\$member\\_casual & all\\_trips\\_v3\\$ride\\_length\\\\\n",
       " <chr> & <dbl>\\\\\n",
       "\\hline\n",
       "\t casual & 1950.5776\\\\\n",
       "\t member &  791.0253\\\\\n",
       "\\end{tabular}\n"
      ],
      "text/markdown": [
       "\n",
       "A data.frame: 2 × 2\n",
       "\n",
       "| all_trips_v3$member_casual &lt;chr&gt; | all_trips_v3$ride_length &lt;dbl&gt; |\n",
       "|---|---|\n",
       "| casual | 1950.5776 |\n",
       "| member |  791.0253 |\n",
       "\n"
      ],
      "text/plain": [
       "  all_trips_v3$member_casual all_trips_v3$ride_length\n",
       "1 casual                     1950.5776               \n",
       "2 member                      791.0253               "
      ]
     },
     "metadata": {},
     "output_type": "display_data"
    },
    {
     "data": {
      "text/html": [
       "<table class=\"dataframe\">\n",
       "<caption>A data.frame: 2 × 2</caption>\n",
       "<thead>\n",
       "\t<tr><th scope=col>all_trips_v3$member_casual</th><th scope=col>all_trips_v3$ride_length</th></tr>\n",
       "\t<tr><th scope=col>&lt;chr&gt;</th><th scope=col>&lt;dbl&gt;</th></tr>\n",
       "</thead>\n",
       "<tbody>\n",
       "\t<tr><td>casual</td><td>999</td></tr>\n",
       "\t<tr><td>member</td><td>583</td></tr>\n",
       "</tbody>\n",
       "</table>\n"
      ],
      "text/latex": [
       "A data.frame: 2 × 2\n",
       "\\begin{tabular}{ll}\n",
       " all\\_trips\\_v3\\$member\\_casual & all\\_trips\\_v3\\$ride\\_length\\\\\n",
       " <chr> & <dbl>\\\\\n",
       "\\hline\n",
       "\t casual & 999\\\\\n",
       "\t member & 583\\\\\n",
       "\\end{tabular}\n"
      ],
      "text/markdown": [
       "\n",
       "A data.frame: 2 × 2\n",
       "\n",
       "| all_trips_v3$member_casual &lt;chr&gt; | all_trips_v3$ride_length &lt;dbl&gt; |\n",
       "|---|---|\n",
       "| casual | 999 |\n",
       "| member | 583 |\n",
       "\n"
      ],
      "text/plain": [
       "  all_trips_v3$member_casual all_trips_v3$ride_length\n",
       "1 casual                     999                     \n",
       "2 member                     583                     "
      ]
     },
     "metadata": {},
     "output_type": "display_data"
    },
    {
     "data": {
      "text/html": [
       "<table class=\"dataframe\">\n",
       "<caption>A data.frame: 2 × 2</caption>\n",
       "<thead>\n",
       "\t<tr><th scope=col>all_trips_v3$member_casual</th><th scope=col>all_trips_v3$ride_length</th></tr>\n",
       "\t<tr><th scope=col>&lt;chr&gt;</th><th scope=col>&lt;dbl&gt;</th></tr>\n",
       "</thead>\n",
       "<tbody>\n",
       "\t<tr><td>casual</td><td>3356649</td></tr>\n",
       "\t<tr><td>member</td><td>  89738</td></tr>\n",
       "</tbody>\n",
       "</table>\n"
      ],
      "text/latex": [
       "A data.frame: 2 × 2\n",
       "\\begin{tabular}{ll}\n",
       " all\\_trips\\_v3\\$member\\_casual & all\\_trips\\_v3\\$ride\\_length\\\\\n",
       " <chr> & <dbl>\\\\\n",
       "\\hline\n",
       "\t casual & 3356649\\\\\n",
       "\t member &   89738\\\\\n",
       "\\end{tabular}\n"
      ],
      "text/markdown": [
       "\n",
       "A data.frame: 2 × 2\n",
       "\n",
       "| all_trips_v3$member_casual &lt;chr&gt; | all_trips_v3$ride_length &lt;dbl&gt; |\n",
       "|---|---|\n",
       "| casual | 3356649 |\n",
       "| member |   89738 |\n",
       "\n"
      ],
      "text/plain": [
       "  all_trips_v3$member_casual all_trips_v3$ride_length\n",
       "1 casual                     3356649                 \n",
       "2 member                       89738                 "
      ]
     },
     "metadata": {},
     "output_type": "display_data"
    },
    {
     "data": {
      "text/html": [
       "<table class=\"dataframe\">\n",
       "<caption>A data.frame: 2 × 2</caption>\n",
       "<thead>\n",
       "\t<tr><th scope=col>all_trips_v3$member_casual</th><th scope=col>all_trips_v3$ride_length</th></tr>\n",
       "\t<tr><th scope=col>&lt;chr&gt;</th><th scope=col>&lt;dbl&gt;</th></tr>\n",
       "</thead>\n",
       "<tbody>\n",
       "\t<tr><td>casual</td><td>0</td></tr>\n",
       "\t<tr><td>member</td><td>0</td></tr>\n",
       "</tbody>\n",
       "</table>\n"
      ],
      "text/latex": [
       "A data.frame: 2 × 2\n",
       "\\begin{tabular}{ll}\n",
       " all\\_trips\\_v3\\$member\\_casual & all\\_trips\\_v3\\$ride\\_length\\\\\n",
       " <chr> & <dbl>\\\\\n",
       "\\hline\n",
       "\t casual & 0\\\\\n",
       "\t member & 0\\\\\n",
       "\\end{tabular}\n"
      ],
      "text/markdown": [
       "\n",
       "A data.frame: 2 × 2\n",
       "\n",
       "| all_trips_v3$member_casual &lt;chr&gt; | all_trips_v3$ride_length &lt;dbl&gt; |\n",
       "|---|---|\n",
       "| casual | 0 |\n",
       "| member | 0 |\n",
       "\n"
      ],
      "text/plain": [
       "  all_trips_v3$member_casual all_trips_v3$ride_length\n",
       "1 casual                     0                       \n",
       "2 member                     0                       "
      ]
     },
     "metadata": {},
     "output_type": "display_data"
    }
   ],
   "source": [
    "# Compare members and casual users\n",
    "aggregate(all_trips_v3$ride_length ~ all_trips_v3$member_casual, FUN = mean)\n",
    "aggregate(all_trips_v3$ride_length ~ all_trips_v3$member_casual, FUN = median)\n",
    "aggregate(all_trips_v3$ride_length ~ all_trips_v3$member_casual, FUN = max)\n",
    "aggregate(all_trips_v3$ride_length ~ all_trips_v3$member_casual, FUN = min)"
   ]
  },
  {
   "cell_type": "code",
   "execution_count": 17,
   "id": "4e3d13ea",
   "metadata": {
    "execution": {
     "iopub.execute_input": "2022-01-13T07:01:33.414679Z",
     "iopub.status.busy": "2022-01-13T07:01:33.412605Z",
     "iopub.status.idle": "2022-01-13T07:01:37.002306Z",
     "shell.execute_reply": "2022-01-13T07:01:37.000876Z"
    },
    "papermill": {
     "duration": 3.805546,
     "end_time": "2022-01-13T07:01:37.002453",
     "exception": false,
     "start_time": "2022-01-13T07:01:33.196907",
     "status": "completed"
    },
    "tags": []
   },
   "outputs": [
    {
     "data": {
      "text/html": [
       "<table class=\"dataframe\">\n",
       "<caption>A data.frame: 14 × 3</caption>\n",
       "<thead>\n",
       "\t<tr><th scope=col>all_trips_v3$member_casual</th><th scope=col>all_trips_v3$day_of_week</th><th scope=col>all_trips_v3$ride_length</th></tr>\n",
       "\t<tr><th scope=col>&lt;chr&gt;</th><th scope=col>&lt;chr&gt;</th><th scope=col>&lt;dbl&gt;</th></tr>\n",
       "</thead>\n",
       "<tbody>\n",
       "\t<tr><td>casual</td><td>Friday   </td><td>1855.1058</td></tr>\n",
       "\t<tr><td>member</td><td>Friday   </td><td> 767.5400</td></tr>\n",
       "\t<tr><td>casual</td><td>Monday   </td><td>1958.2088</td></tr>\n",
       "\t<tr><td>member</td><td>Monday   </td><td> 763.5012</td></tr>\n",
       "\t<tr><td>casual</td><td>Saturday </td><td>2092.3131</td></tr>\n",
       "\t<tr><td>member</td><td>Saturday </td><td> 889.1675</td></tr>\n",
       "\t<tr><td>casual</td><td>Sunday   </td><td>2256.1716</td></tr>\n",
       "\t<tr><td>member</td><td>Sunday   </td><td> 911.6555</td></tr>\n",
       "\t<tr><td>casual</td><td>Thursday </td><td>1680.6377</td></tr>\n",
       "\t<tr><td>member</td><td>Thursday </td><td> 741.2177</td></tr>\n",
       "\t<tr><td>casual</td><td>Tuesday  </td><td>1728.1771</td></tr>\n",
       "\t<tr><td>member</td><td>Tuesday  </td><td> 743.2600</td></tr>\n",
       "\t<tr><td>casual</td><td>Wednesday</td><td>1696.1548</td></tr>\n",
       "\t<tr><td>member</td><td>Wednesday</td><td> 747.4758</td></tr>\n",
       "</tbody>\n",
       "</table>\n"
      ],
      "text/latex": [
       "A data.frame: 14 × 3\n",
       "\\begin{tabular}{lll}\n",
       " all\\_trips\\_v3\\$member\\_casual & all\\_trips\\_v3\\$day\\_of\\_week & all\\_trips\\_v3\\$ride\\_length\\\\\n",
       " <chr> & <chr> & <dbl>\\\\\n",
       "\\hline\n",
       "\t casual & Friday    & 1855.1058\\\\\n",
       "\t member & Friday    &  767.5400\\\\\n",
       "\t casual & Monday    & 1958.2088\\\\\n",
       "\t member & Monday    &  763.5012\\\\\n",
       "\t casual & Saturday  & 2092.3131\\\\\n",
       "\t member & Saturday  &  889.1675\\\\\n",
       "\t casual & Sunday    & 2256.1716\\\\\n",
       "\t member & Sunday    &  911.6555\\\\\n",
       "\t casual & Thursday  & 1680.6377\\\\\n",
       "\t member & Thursday  &  741.2177\\\\\n",
       "\t casual & Tuesday   & 1728.1771\\\\\n",
       "\t member & Tuesday   &  743.2600\\\\\n",
       "\t casual & Wednesday & 1696.1548\\\\\n",
       "\t member & Wednesday &  747.4758\\\\\n",
       "\\end{tabular}\n"
      ],
      "text/markdown": [
       "\n",
       "A data.frame: 14 × 3\n",
       "\n",
       "| all_trips_v3$member_casual &lt;chr&gt; | all_trips_v3$day_of_week &lt;chr&gt; | all_trips_v3$ride_length &lt;dbl&gt; |\n",
       "|---|---|---|\n",
       "| casual | Friday    | 1855.1058 |\n",
       "| member | Friday    |  767.5400 |\n",
       "| casual | Monday    | 1958.2088 |\n",
       "| member | Monday    |  763.5012 |\n",
       "| casual | Saturday  | 2092.3131 |\n",
       "| member | Saturday  |  889.1675 |\n",
       "| casual | Sunday    | 2256.1716 |\n",
       "| member | Sunday    |  911.6555 |\n",
       "| casual | Thursday  | 1680.6377 |\n",
       "| member | Thursday  |  741.2177 |\n",
       "| casual | Tuesday   | 1728.1771 |\n",
       "| member | Tuesday   |  743.2600 |\n",
       "| casual | Wednesday | 1696.1548 |\n",
       "| member | Wednesday |  747.4758 |\n",
       "\n"
      ],
      "text/plain": [
       "   all_trips_v3$member_casual all_trips_v3$day_of_week all_trips_v3$ride_length\n",
       "1  casual                     Friday                   1855.1058               \n",
       "2  member                     Friday                    767.5400               \n",
       "3  casual                     Monday                   1958.2088               \n",
       "4  member                     Monday                    763.5012               \n",
       "5  casual                     Saturday                 2092.3131               \n",
       "6  member                     Saturday                  889.1675               \n",
       "7  casual                     Sunday                   2256.1716               \n",
       "8  member                     Sunday                    911.6555               \n",
       "9  casual                     Thursday                 1680.6377               \n",
       "10 member                     Thursday                  741.2177               \n",
       "11 casual                     Tuesday                  1728.1771               \n",
       "12 member                     Tuesday                   743.2600               \n",
       "13 casual                     Wednesday                1696.1548               \n",
       "14 member                     Wednesday                 747.4758               "
      ]
     },
     "metadata": {},
     "output_type": "display_data"
    }
   ],
   "source": [
    "# See the average ride time by each day for members vs casual users\n",
    "aggregate(all_trips_v3$ride_length ~ all_trips_v3$member_casual + all_trips_v3$day_of_week,\n",
    "FUN = mean)"
   ]
  },
  {
   "cell_type": "markdown",
   "id": "075213ec",
   "metadata": {
    "papermill": {
     "duration": 0.215016,
     "end_time": "2022-01-13T07:01:37.431148",
     "exception": false,
     "start_time": "2022-01-13T07:01:37.216132",
     "status": "completed"
    },
    "tags": []
   },
   "source": [
    "### Notice that the days of the week are out of order. Let's fix that."
   ]
  },
  {
   "cell_type": "code",
   "execution_count": 18,
   "id": "f6f133b5",
   "metadata": {
    "execution": {
     "iopub.execute_input": "2022-01-13T07:01:37.865775Z",
     "iopub.status.busy": "2022-01-13T07:01:37.864286Z",
     "iopub.status.idle": "2022-01-13T07:01:37.972377Z",
     "shell.execute_reply": "2022-01-13T07:01:37.971126Z"
    },
    "papermill": {
     "duration": 0.326485,
     "end_time": "2022-01-13T07:01:37.972548",
     "exception": false,
     "start_time": "2022-01-13T07:01:37.646063",
     "status": "completed"
    },
    "tags": []
   },
   "outputs": [],
   "source": [
    "all_trips_v3$day_of_week <- ordered(all_trips_v3$day_of_week, levels=c(\"Sunday\", \"Monday\",\n",
    "\"Tuesday\", \"Wednesday\", \"Thursday\", \"Friday\", \"Saturday\"))"
   ]
  },
  {
   "cell_type": "code",
   "execution_count": 19,
   "id": "513f0916",
   "metadata": {
    "execution": {
     "iopub.execute_input": "2022-01-13T07:01:38.406341Z",
     "iopub.status.busy": "2022-01-13T07:01:38.404727Z",
     "iopub.status.idle": "2022-01-13T07:01:41.769358Z",
     "shell.execute_reply": "2022-01-13T07:01:41.767960Z"
    },
    "papermill": {
     "duration": 3.58296,
     "end_time": "2022-01-13T07:01:41.769551",
     "exception": false,
     "start_time": "2022-01-13T07:01:38.186591",
     "status": "completed"
    },
    "tags": []
   },
   "outputs": [
    {
     "data": {
      "text/html": [
       "<table class=\"dataframe\">\n",
       "<caption>A data.frame: 14 × 3</caption>\n",
       "<thead>\n",
       "\t<tr><th scope=col>all_trips_v3$member_casual</th><th scope=col>all_trips_v3$day_of_week</th><th scope=col>all_trips_v3$ride_length</th></tr>\n",
       "\t<tr><th scope=col>&lt;chr&gt;</th><th scope=col>&lt;ord&gt;</th><th scope=col>&lt;dbl&gt;</th></tr>\n",
       "</thead>\n",
       "<tbody>\n",
       "\t<tr><td>casual</td><td>Sunday   </td><td>2256.1716</td></tr>\n",
       "\t<tr><td>member</td><td>Sunday   </td><td> 911.6555</td></tr>\n",
       "\t<tr><td>casual</td><td>Monday   </td><td>1958.2088</td></tr>\n",
       "\t<tr><td>member</td><td>Monday   </td><td> 763.5012</td></tr>\n",
       "\t<tr><td>casual</td><td>Tuesday  </td><td>1728.1771</td></tr>\n",
       "\t<tr><td>member</td><td>Tuesday  </td><td> 743.2600</td></tr>\n",
       "\t<tr><td>casual</td><td>Wednesday</td><td>1696.1548</td></tr>\n",
       "\t<tr><td>member</td><td>Wednesday</td><td> 747.4758</td></tr>\n",
       "\t<tr><td>casual</td><td>Thursday </td><td>1680.6377</td></tr>\n",
       "\t<tr><td>member</td><td>Thursday </td><td> 741.2177</td></tr>\n",
       "\t<tr><td>casual</td><td>Friday   </td><td>1855.1058</td></tr>\n",
       "\t<tr><td>member</td><td>Friday   </td><td> 767.5400</td></tr>\n",
       "\t<tr><td>casual</td><td>Saturday </td><td>2092.3131</td></tr>\n",
       "\t<tr><td>member</td><td>Saturday </td><td> 889.1675</td></tr>\n",
       "</tbody>\n",
       "</table>\n"
      ],
      "text/latex": [
       "A data.frame: 14 × 3\n",
       "\\begin{tabular}{lll}\n",
       " all\\_trips\\_v3\\$member\\_casual & all\\_trips\\_v3\\$day\\_of\\_week & all\\_trips\\_v3\\$ride\\_length\\\\\n",
       " <chr> & <ord> & <dbl>\\\\\n",
       "\\hline\n",
       "\t casual & Sunday    & 2256.1716\\\\\n",
       "\t member & Sunday    &  911.6555\\\\\n",
       "\t casual & Monday    & 1958.2088\\\\\n",
       "\t member & Monday    &  763.5012\\\\\n",
       "\t casual & Tuesday   & 1728.1771\\\\\n",
       "\t member & Tuesday   &  743.2600\\\\\n",
       "\t casual & Wednesday & 1696.1548\\\\\n",
       "\t member & Wednesday &  747.4758\\\\\n",
       "\t casual & Thursday  & 1680.6377\\\\\n",
       "\t member & Thursday  &  741.2177\\\\\n",
       "\t casual & Friday    & 1855.1058\\\\\n",
       "\t member & Friday    &  767.5400\\\\\n",
       "\t casual & Saturday  & 2092.3131\\\\\n",
       "\t member & Saturday  &  889.1675\\\\\n",
       "\\end{tabular}\n"
      ],
      "text/markdown": [
       "\n",
       "A data.frame: 14 × 3\n",
       "\n",
       "| all_trips_v3$member_casual &lt;chr&gt; | all_trips_v3$day_of_week &lt;ord&gt; | all_trips_v3$ride_length &lt;dbl&gt; |\n",
       "|---|---|---|\n",
       "| casual | Sunday    | 2256.1716 |\n",
       "| member | Sunday    |  911.6555 |\n",
       "| casual | Monday    | 1958.2088 |\n",
       "| member | Monday    |  763.5012 |\n",
       "| casual | Tuesday   | 1728.1771 |\n",
       "| member | Tuesday   |  743.2600 |\n",
       "| casual | Wednesday | 1696.1548 |\n",
       "| member | Wednesday |  747.4758 |\n",
       "| casual | Thursday  | 1680.6377 |\n",
       "| member | Thursday  |  741.2177 |\n",
       "| casual | Friday    | 1855.1058 |\n",
       "| member | Friday    |  767.5400 |\n",
       "| casual | Saturday  | 2092.3131 |\n",
       "| member | Saturday  |  889.1675 |\n",
       "\n"
      ],
      "text/plain": [
       "   all_trips_v3$member_casual all_trips_v3$day_of_week all_trips_v3$ride_length\n",
       "1  casual                     Sunday                   2256.1716               \n",
       "2  member                     Sunday                    911.6555               \n",
       "3  casual                     Monday                   1958.2088               \n",
       "4  member                     Monday                    763.5012               \n",
       "5  casual                     Tuesday                  1728.1771               \n",
       "6  member                     Tuesday                   743.2600               \n",
       "7  casual                     Wednesday                1696.1548               \n",
       "8  member                     Wednesday                 747.4758               \n",
       "9  casual                     Thursday                 1680.6377               \n",
       "10 member                     Thursday                  741.2177               \n",
       "11 casual                     Friday                   1855.1058               \n",
       "12 member                     Friday                    767.5400               \n",
       "13 casual                     Saturday                 2092.3131               \n",
       "14 member                     Saturday                  889.1675               "
      ]
     },
     "metadata": {},
     "output_type": "display_data"
    }
   ],
   "source": [
    "# Now, let's run the average ride time by each day for members vs casual users\n",
    "aggregate(all_trips_v3$ride_length ~ all_trips_v3$member_casual +\n",
    "          all_trips_v3$day_of_week, FUN = mean)"
   ]
  },
  {
   "cell_type": "markdown",
   "id": "b26e1f41",
   "metadata": {
    "papermill": {
     "duration": 0.21678,
     "end_time": "2022-01-13T07:01:42.216983",
     "exception": false,
     "start_time": "2022-01-13T07:01:42.000203",
     "status": "completed"
    },
    "tags": []
   },
   "source": [
    "### From table above, we can see that the average ride length of casual bike riders are much high then the subscription members specifically on weekend days (Saturday and Sunday).\n",
    "## Now, let's compare both riders by ride time as well as by number of rides each day of a week."
   ]
  },
  {
   "cell_type": "code",
   "execution_count": 20,
   "id": "2909df69",
   "metadata": {
    "execution": {
     "iopub.execute_input": "2022-01-13T07:01:42.656749Z",
     "iopub.status.busy": "2022-01-13T07:01:42.654712Z",
     "iopub.status.idle": "2022-01-13T07:01:49.021457Z",
     "shell.execute_reply": "2022-01-13T07:01:49.020017Z"
    },
    "papermill": {
     "duration": 6.58844,
     "end_time": "2022-01-13T07:01:49.021616",
     "exception": false,
     "start_time": "2022-01-13T07:01:42.433176",
     "status": "completed"
    },
    "tags": []
   },
   "outputs": [
    {
     "name": "stderr",
     "output_type": "stream",
     "text": [
      "`summarise()` has grouped output by 'weekday'. You can override using the `.groups` argument.\n",
      "\n"
     ]
    },
    {
     "data": {
      "text/html": [
       "<table class=\"dataframe\">\n",
       "<caption>A grouped_df: 14 × 4</caption>\n",
       "<thead>\n",
       "\t<tr><th scope=col>weekday</th><th scope=col>member_casual</th><th scope=col>number_of_rides</th><th scope=col>average_duration</th></tr>\n",
       "\t<tr><th scope=col>&lt;ord&gt;</th><th scope=col>&lt;chr&gt;</th><th scope=col>&lt;int&gt;</th><th scope=col>&lt;dbl&gt;</th></tr>\n",
       "</thead>\n",
       "<tbody>\n",
       "\t<tr><td>Sun</td><td>casual</td><td>403762</td><td>2256.1716</td></tr>\n",
       "\t<tr><td>Sun</td><td>member</td><td>311220</td><td> 911.6555</td></tr>\n",
       "\t<tr><td>Mon</td><td>casual</td><td>228934</td><td>1958.2088</td></tr>\n",
       "\t<tr><td>Mon</td><td>member</td><td>346481</td><td> 763.5012</td></tr>\n",
       "\t<tr><td>Tue</td><td>casual</td><td>214935</td><td>1728.1771</td></tr>\n",
       "\t<tr><td>Tue</td><td>member</td><td>388131</td><td> 743.2600</td></tr>\n",
       "\t<tr><td>Wed</td><td>casual</td><td>218132</td><td>1696.1548</td></tr>\n",
       "\t<tr><td>Wed</td><td>member</td><td>397688</td><td> 747.4758</td></tr>\n",
       "\t<tr><td>Thu</td><td>casual</td><td>224207</td><td>1680.6377</td></tr>\n",
       "\t<tr><td>Thu</td><td>member</td><td>373471</td><td> 741.2177</td></tr>\n",
       "\t<tr><td>Fri</td><td>casual</td><td>290040</td><td>1855.1058</td></tr>\n",
       "\t<tr><td>Fri</td><td>member</td><td>365782</td><td> 767.5400</td></tr>\n",
       "\t<tr><td>Sat</td><td>casual</td><td>468325</td><td>2092.3131</td></tr>\n",
       "\t<tr><td>Sat</td><td>member</td><td>357078</td><td> 889.1675</td></tr>\n",
       "</tbody>\n",
       "</table>\n"
      ],
      "text/latex": [
       "A grouped\\_df: 14 × 4\n",
       "\\begin{tabular}{llll}\n",
       " weekday & member\\_casual & number\\_of\\_rides & average\\_duration\\\\\n",
       " <ord> & <chr> & <int> & <dbl>\\\\\n",
       "\\hline\n",
       "\t Sun & casual & 403762 & 2256.1716\\\\\n",
       "\t Sun & member & 311220 &  911.6555\\\\\n",
       "\t Mon & casual & 228934 & 1958.2088\\\\\n",
       "\t Mon & member & 346481 &  763.5012\\\\\n",
       "\t Tue & casual & 214935 & 1728.1771\\\\\n",
       "\t Tue & member & 388131 &  743.2600\\\\\n",
       "\t Wed & casual & 218132 & 1696.1548\\\\\n",
       "\t Wed & member & 397688 &  747.4758\\\\\n",
       "\t Thu & casual & 224207 & 1680.6377\\\\\n",
       "\t Thu & member & 373471 &  741.2177\\\\\n",
       "\t Fri & casual & 290040 & 1855.1058\\\\\n",
       "\t Fri & member & 365782 &  767.5400\\\\\n",
       "\t Sat & casual & 468325 & 2092.3131\\\\\n",
       "\t Sat & member & 357078 &  889.1675\\\\\n",
       "\\end{tabular}\n"
      ],
      "text/markdown": [
       "\n",
       "A grouped_df: 14 × 4\n",
       "\n",
       "| weekday &lt;ord&gt; | member_casual &lt;chr&gt; | number_of_rides &lt;int&gt; | average_duration &lt;dbl&gt; |\n",
       "|---|---|---|---|\n",
       "| Sun | casual | 403762 | 2256.1716 |\n",
       "| Sun | member | 311220 |  911.6555 |\n",
       "| Mon | casual | 228934 | 1958.2088 |\n",
       "| Mon | member | 346481 |  763.5012 |\n",
       "| Tue | casual | 214935 | 1728.1771 |\n",
       "| Tue | member | 388131 |  743.2600 |\n",
       "| Wed | casual | 218132 | 1696.1548 |\n",
       "| Wed | member | 397688 |  747.4758 |\n",
       "| Thu | casual | 224207 | 1680.6377 |\n",
       "| Thu | member | 373471 |  741.2177 |\n",
       "| Fri | casual | 290040 | 1855.1058 |\n",
       "| Fri | member | 365782 |  767.5400 |\n",
       "| Sat | casual | 468325 | 2092.3131 |\n",
       "| Sat | member | 357078 |  889.1675 |\n",
       "\n"
      ],
      "text/plain": [
       "   weekday member_casual number_of_rides average_duration\n",
       "1  Sun     casual        403762          2256.1716       \n",
       "2  Sun     member        311220           911.6555       \n",
       "3  Mon     casual        228934          1958.2088       \n",
       "4  Mon     member        346481           763.5012       \n",
       "5  Tue     casual        214935          1728.1771       \n",
       "6  Tue     member        388131           743.2600       \n",
       "7  Wed     casual        218132          1696.1548       \n",
       "8  Wed     member        397688           747.4758       \n",
       "9  Thu     casual        224207          1680.6377       \n",
       "10 Thu     member        373471           741.2177       \n",
       "11 Fri     casual        290040          1855.1058       \n",
       "12 Fri     member        365782           767.5400       \n",
       "13 Sat     casual        468325          2092.3131       \n",
       "14 Sat     member        357078           889.1675       "
      ]
     },
     "metadata": {},
     "output_type": "display_data"
    }
   ],
   "source": [
    "# analyze ridership data by rider-type and weekday\n",
    "all_trips_v3 %>%\n",
    "mutate(weekday = wday(started_at, label = TRUE)) %>%\n",
    "group_by(weekday, member_casual) %>%\n",
    "summarise(number_of_rides = n(), average_duration = mean(ride_length)) %>% \n",
    "arrange(weekday, member_casual)"
   ]
  },
  {
   "cell_type": "markdown",
   "id": "00e3c0e1",
   "metadata": {
    "papermill": {
     "duration": 0.224354,
     "end_time": "2022-01-13T07:01:49.469720",
     "exception": false,
     "start_time": "2022-01-13T07:01:49.245366",
     "status": "completed"
    },
    "tags": []
   },
   "source": [
    "### From the table above, we got this information:-\n",
    "* #### Ride Time:\n",
    "    #### The average ride time of casual riders are much higher than the member riders in the whole week specifically in weekends.\n",
    "* #### Number of Rides:\n",
    "    #### The number of rides by casual riders are higher than the member riders only in weekend days.\n",
    "   \n",
    "## Now, let's try something different and compare both on month bases of the year 2021."
   ]
  },
  {
   "cell_type": "code",
   "execution_count": 21,
   "id": "dfe559d0",
   "metadata": {
    "execution": {
     "iopub.execute_input": "2022-01-13T07:01:49.915658Z",
     "iopub.status.busy": "2022-01-13T07:01:49.914187Z",
     "iopub.status.idle": "2022-01-13T07:01:50.132825Z",
     "shell.execute_reply": "2022-01-13T07:01:50.131441Z"
    },
    "papermill": {
     "duration": 0.442451,
     "end_time": "2022-01-13T07:01:50.132966",
     "exception": false,
     "start_time": "2022-01-13T07:01:49.690515",
     "status": "completed"
    },
    "tags": []
   },
   "outputs": [
    {
     "name": "stderr",
     "output_type": "stream",
     "text": [
      "`summarise()` has grouped output by 'member_casual'. You can override using the `.groups` argument.\n",
      "\n"
     ]
    },
    {
     "data": {
      "text/html": [
       "<table class=\"dataframe\">\n",
       "<caption>A grouped_df: 24 × 4</caption>\n",
       "<thead>\n",
       "\t<tr><th scope=col>member_casual</th><th scope=col>month</th><th scope=col>number_of_rides</th><th scope=col>average_duration</th></tr>\n",
       "\t<tr><th scope=col>&lt;chr&gt;</th><th scope=col>&lt;chr&gt;</th><th scope=col>&lt;int&gt;</th><th scope=col>&lt;dbl&gt;</th></tr>\n",
       "</thead>\n",
       "<tbody>\n",
       "\t<tr><td>casual</td><td>01</td><td> 14690</td><td>1582.2002</td></tr>\n",
       "\t<tr><td>member</td><td>01</td><td> 68819</td><td> 721.8575</td></tr>\n",
       "\t<tr><td>casual</td><td>02</td><td>  8613</td><td>2828.2271</td></tr>\n",
       "\t<tr><td>member</td><td>02</td><td> 34383</td><td> 886.8204</td></tr>\n",
       "\t<tr><td>casual</td><td>03</td><td> 75641</td><td>2308.8290</td></tr>\n",
       "\t<tr><td>member</td><td>03</td><td>130048</td><td> 819.9054</td></tr>\n",
       "\t<tr><td>casual</td><td>04</td><td>120420</td><td>2306.4649</td></tr>\n",
       "\t<tr><td>member</td><td>04</td><td>177783</td><td> 855.7767</td></tr>\n",
       "\t<tr><td>casual</td><td>05</td><td>216829</td><td>2378.0589</td></tr>\n",
       "\t<tr><td>member</td><td>05</td><td>234164</td><td> 860.6106</td></tr>\n",
       "\t<tr><td>casual</td><td>06</td><td>304189</td><td>2311.1796</td></tr>\n",
       "\t<tr><td>member</td><td>06</td><td>304585</td><td> 848.3863</td></tr>\n",
       "\t<tr><td>casual</td><td>07</td><td>369407</td><td>1997.1165</td></tr>\n",
       "\t<tr><td>member</td><td>07</td><td>322902</td><td> 827.4608</td></tr>\n",
       "\t<tr><td>casual</td><td>08</td><td>341469</td><td>1713.8431</td></tr>\n",
       "\t<tr><td>member</td><td>08</td><td>332916</td><td> 813.1709</td></tr>\n",
       "\t<tr><td>casual</td><td>09</td><td>292926</td><td>1685.2759</td></tr>\n",
       "\t<tr><td>member</td><td>09</td><td>328192</td><td> 787.8606</td></tr>\n",
       "\t<tr><td>casual</td><td>10</td><td>189117</td><td>1578.8406</td></tr>\n",
       "\t<tr><td>member</td><td>10</td><td>288855</td><td> 720.8677</td></tr>\n",
       "\t<tr><td>casual</td><td>11</td><td> 69958</td><td>1348.9644</td></tr>\n",
       "\t<tr><td>member</td><td>11</td><td>185909</td><td> 657.0941</td></tr>\n",
       "\t<tr><td>casual</td><td>12</td><td> 45076</td><td>1490.5845</td></tr>\n",
       "\t<tr><td>member</td><td>12</td><td>131295</td><td> 634.8756</td></tr>\n",
       "</tbody>\n",
       "</table>\n"
      ],
      "text/latex": [
       "A grouped\\_df: 24 × 4\n",
       "\\begin{tabular}{llll}\n",
       " member\\_casual & month & number\\_of\\_rides & average\\_duration\\\\\n",
       " <chr> & <chr> & <int> & <dbl>\\\\\n",
       "\\hline\n",
       "\t casual & 01 &  14690 & 1582.2002\\\\\n",
       "\t member & 01 &  68819 &  721.8575\\\\\n",
       "\t casual & 02 &   8613 & 2828.2271\\\\\n",
       "\t member & 02 &  34383 &  886.8204\\\\\n",
       "\t casual & 03 &  75641 & 2308.8290\\\\\n",
       "\t member & 03 & 130048 &  819.9054\\\\\n",
       "\t casual & 04 & 120420 & 2306.4649\\\\\n",
       "\t member & 04 & 177783 &  855.7767\\\\\n",
       "\t casual & 05 & 216829 & 2378.0589\\\\\n",
       "\t member & 05 & 234164 &  860.6106\\\\\n",
       "\t casual & 06 & 304189 & 2311.1796\\\\\n",
       "\t member & 06 & 304585 &  848.3863\\\\\n",
       "\t casual & 07 & 369407 & 1997.1165\\\\\n",
       "\t member & 07 & 322902 &  827.4608\\\\\n",
       "\t casual & 08 & 341469 & 1713.8431\\\\\n",
       "\t member & 08 & 332916 &  813.1709\\\\\n",
       "\t casual & 09 & 292926 & 1685.2759\\\\\n",
       "\t member & 09 & 328192 &  787.8606\\\\\n",
       "\t casual & 10 & 189117 & 1578.8406\\\\\n",
       "\t member & 10 & 288855 &  720.8677\\\\\n",
       "\t casual & 11 &  69958 & 1348.9644\\\\\n",
       "\t member & 11 & 185909 &  657.0941\\\\\n",
       "\t casual & 12 &  45076 & 1490.5845\\\\\n",
       "\t member & 12 & 131295 &  634.8756\\\\\n",
       "\\end{tabular}\n"
      ],
      "text/markdown": [
       "\n",
       "A grouped_df: 24 × 4\n",
       "\n",
       "| member_casual &lt;chr&gt; | month &lt;chr&gt; | number_of_rides &lt;int&gt; | average_duration &lt;dbl&gt; |\n",
       "|---|---|---|---|\n",
       "| casual | 01 |  14690 | 1582.2002 |\n",
       "| member | 01 |  68819 |  721.8575 |\n",
       "| casual | 02 |   8613 | 2828.2271 |\n",
       "| member | 02 |  34383 |  886.8204 |\n",
       "| casual | 03 |  75641 | 2308.8290 |\n",
       "| member | 03 | 130048 |  819.9054 |\n",
       "| casual | 04 | 120420 | 2306.4649 |\n",
       "| member | 04 | 177783 |  855.7767 |\n",
       "| casual | 05 | 216829 | 2378.0589 |\n",
       "| member | 05 | 234164 |  860.6106 |\n",
       "| casual | 06 | 304189 | 2311.1796 |\n",
       "| member | 06 | 304585 |  848.3863 |\n",
       "| casual | 07 | 369407 | 1997.1165 |\n",
       "| member | 07 | 322902 |  827.4608 |\n",
       "| casual | 08 | 341469 | 1713.8431 |\n",
       "| member | 08 | 332916 |  813.1709 |\n",
       "| casual | 09 | 292926 | 1685.2759 |\n",
       "| member | 09 | 328192 |  787.8606 |\n",
       "| casual | 10 | 189117 | 1578.8406 |\n",
       "| member | 10 | 288855 |  720.8677 |\n",
       "| casual | 11 |  69958 | 1348.9644 |\n",
       "| member | 11 | 185909 |  657.0941 |\n",
       "| casual | 12 |  45076 | 1490.5845 |\n",
       "| member | 12 | 131295 |  634.8756 |\n",
       "\n"
      ],
      "text/plain": [
       "   member_casual month number_of_rides average_duration\n",
       "1  casual        01     14690          1582.2002       \n",
       "2  member        01     68819           721.8575       \n",
       "3  casual        02      8613          2828.2271       \n",
       "4  member        02     34383           886.8204       \n",
       "5  casual        03     75641          2308.8290       \n",
       "6  member        03    130048           819.9054       \n",
       "7  casual        04    120420          2306.4649       \n",
       "8  member        04    177783           855.7767       \n",
       "9  casual        05    216829          2378.0589       \n",
       "10 member        05    234164           860.6106       \n",
       "11 casual        06    304189          2311.1796       \n",
       "12 member        06    304585           848.3863       \n",
       "13 casual        07    369407          1997.1165       \n",
       "14 member        07    322902           827.4608       \n",
       "15 casual        08    341469          1713.8431       \n",
       "16 member        08    332916           813.1709       \n",
       "17 casual        09    292926          1685.2759       \n",
       "18 member        09    328192           787.8606       \n",
       "19 casual        10    189117          1578.8406       \n",
       "20 member        10    288855           720.8677       \n",
       "21 casual        11     69958          1348.9644       \n",
       "22 member        11    185909           657.0941       \n",
       "23 casual        12     45076          1490.5845       \n",
       "24 member        12    131295           634.8756       "
      ]
     },
     "metadata": {},
     "output_type": "display_data"
    }
   ],
   "source": [
    "# analyze ridership data by rider-type and month\n",
    "all_trips_v3 %>%\n",
    "group_by(member_casual, month) %>%\n",
    "summarise(number_of_rides = n(), average_duration = mean(ride_length)) %>% \n",
    "arrange(month, member_casual)"
   ]
  },
  {
   "cell_type": "markdown",
   "id": "f991a21b",
   "metadata": {
    "papermill": {
     "duration": 0.226253,
     "end_time": "2022-01-13T07:01:50.587691",
     "exception": false,
     "start_time": "2022-01-13T07:01:50.361438",
     "status": "completed"
    },
    "tags": []
   },
   "source": [
    "### From this table, we got this information:-\n",
    "* #### Ride Time:\n",
    "    #### The average ride time of casual riders are higher than the member riders in the whole year.\n",
    "* #### Number of Rides:\n",
    "    #### Number of rides of casual riders are higher in summer months (almost equal in June, July & August) than the member riders."
   ]
  },
  {
   "cell_type": "markdown",
   "id": "3640733e",
   "metadata": {
    "papermill": {
     "duration": 0.227886,
     "end_time": "2022-01-13T07:01:51.041648",
     "exception": false,
     "start_time": "2022-01-13T07:01:50.813762",
     "status": "completed"
    },
    "tags": []
   },
   "source": [
    "## Now, let's move to next phase and create some aesthetic visualizations to show differences of bike usage by both casual and member riders"
   ]
  },
  {
   "cell_type": "markdown",
   "id": "1309aca8",
   "metadata": {
    "papermill": {
     "duration": 0.226038,
     "end_time": "2022-01-13T07:01:51.498330",
     "exception": false,
     "start_time": "2022-01-13T07:01:51.272292",
     "status": "completed"
    },
    "tags": []
   },
   "source": [
    "# 5- Share Phase\n",
    "\n",
    "## It's time to create some visualizations of what we have seen previously in tabular format in Analyze phase.\n",
    "\n",
    "## Let's start our visulizations with the weekdays data."
   ]
  },
  {
   "cell_type": "code",
   "execution_count": 22,
   "id": "e7cd156c",
   "metadata": {
    "execution": {
     "iopub.execute_input": "2022-01-13T07:01:51.953596Z",
     "iopub.status.busy": "2022-01-13T07:01:51.951950Z",
     "iopub.status.idle": "2022-01-13T07:01:57.399381Z",
     "shell.execute_reply": "2022-01-13T07:01:57.398756Z"
    },
    "papermill": {
     "duration": 5.674942,
     "end_time": "2022-01-13T07:01:57.399513",
     "exception": false,
     "start_time": "2022-01-13T07:01:51.724571",
     "status": "completed"
    },
    "tags": []
   },
   "outputs": [
    {
     "name": "stderr",
     "output_type": "stream",
     "text": [
      "`summarise()` has grouped output by 'member_casual'. You can override using the `.groups` argument.\n",
      "\n"
     ]
    },
    {
     "data": {
      "image/png": "[encoded data removed]"
     },
     "metadata": {
      "image/png": {
       "height": 420,
       "width": 420
      }
     },
     "output_type": "display_data"
    }
   ],
   "source": [
    "all_trips_v3 %>%\n",
    "mutate(weekday = wday(started_at, label = TRUE)) %>%\n",
    "group_by(member_casual, weekday) %>%\n",
    "summarise(number_of_rides = n(), average_duration = mean(ride_length)) %>%\n",
    "arrange(member_casual, weekday) %>%\n",
    "ggplot(aes(x = weekday, y = number_of_rides, fill = member_casual)) + geom_col(position = \"dodge\") +\n",
    "labs(title=\"Total Number of Rides by Weekdays\", x = \"Weekday\", y = \"Number of Rides\")"
   ]
  },
  {
   "cell_type": "markdown",
   "id": "64901082",
   "metadata": {
    "papermill": {
     "duration": 0.226729,
     "end_time": "2022-01-13T07:01:57.853555",
     "exception": false,
     "start_time": "2022-01-13T07:01:57.626826",
     "status": "completed"
    },
    "tags": []
   },
   "source": [
    "### Here we can see that the number of rides of casual riders are higher in weekend days (Saturday and Sundays) than the member riders."
   ]
  },
  {
   "cell_type": "code",
   "execution_count": 23,
   "id": "54338100",
   "metadata": {
    "execution": {
     "iopub.execute_input": "2022-01-13T07:01:58.318533Z",
     "iopub.status.busy": "2022-01-13T07:01:58.316920Z",
     "iopub.status.idle": "2022-01-13T07:02:04.062201Z",
     "shell.execute_reply": "2022-01-13T07:02:04.061420Z"
    },
    "papermill": {
     "duration": 5.981622,
     "end_time": "2022-01-13T07:02:04.062338",
     "exception": false,
     "start_time": "2022-01-13T07:01:58.080716",
     "status": "completed"
    },
    "tags": []
   },
   "outputs": [
    {
     "name": "stderr",
     "output_type": "stream",
     "text": [
      "`summarise()` has grouped output by 'member_casual'. You can override using the `.groups` argument.\n",
      "\n"
     ]
    },
    {
     "data": {
      "image/png": "[encoded data removed]"
     },
     "metadata": {
      "image/png": {
       "height": 420,
       "width": 420
      }
     },
     "output_type": "display_data"
    }
   ],
   "source": [
    "all_trips_v3 %>%\n",
    "mutate(weekday = wday(started_at, label = TRUE)) %>%\n",
    "group_by(member_casual, weekday) %>%\n",
    "summarise(number_of_rides = n()\n",
    ",average_duration = mean(ride_length)) %>%\n",
    "arrange(member_casual, weekday) %>%\n",
    "ggplot(aes(x = weekday, y = average_duration, fill = member_casual)) +\n",
    "geom_col(position = \"dodge\") + labs(title=\"Average Ride Time by Weekdays\", x = \"Weekday\", y = \"Ride Time (seconds)\")"
   ]
  },
  {
   "cell_type": "markdown",
   "id": "9e974665",
   "metadata": {
    "papermill": {
     "duration": 0.231519,
     "end_time": "2022-01-13T07:02:04.525640",
     "exception": false,
     "start_time": "2022-01-13T07:02:04.294121",
     "status": "completed"
    },
    "tags": []
   },
   "source": [
    "### Here we can see that the number of rides of casual riders are higher than the member riders specifically in weekend days (Saturday and Sundays).\n",
    "\n",
    "## Now, it's time to visualize complete year data by month."
   ]
  },
  {
   "cell_type": "code",
   "execution_count": 24,
   "id": "17eed8f4",
   "metadata": {
    "execution": {
     "iopub.execute_input": "2022-01-13T07:02:04.996979Z",
     "iopub.status.busy": "2022-01-13T07:02:04.995258Z",
     "iopub.status.idle": "2022-01-13T07:02:05.469850Z",
     "shell.execute_reply": "2022-01-13T07:02:05.469192Z"
    },
    "papermill": {
     "duration": 0.712956,
     "end_time": "2022-01-13T07:02:05.469986",
     "exception": false,
     "start_time": "2022-01-13T07:02:04.757030",
     "status": "completed"
    },
    "tags": []
   },
   "outputs": [
    {
     "name": "stderr",
     "output_type": "stream",
     "text": [
      "`summarise()` has grouped output by 'member_casual'. You can override using the `.groups` argument.\n",
      "\n",
      "Warning message:\n",
      "“Unknown or uninitialised column: `month`.”\n"
     ]
    },
    {
     "data": {
      "image/png": "[encoded data removed]"
     },
     "metadata": {
      "image/png": {
       "height": 420,
       "width": 420
      }
     },
     "output_type": "display_data"
    }
   ],
   "source": [
    "all_trips_v3 %>% \n",
    "  group_by(member_casual, month) %>% \n",
    "  summarise(number_of_rides = n(), average_duration = mean(ride_length)) %>% \n",
    "  arrange(member_casual, month)\t%>% \n",
    "  ggplot(aes(x = month, y = number_of_rides, fill = member_casual)) +\n",
    "  geom_col(position = \"dodge\") +\n",
    "  labs(title=\"Total Number of Ride by Month\", x = \"Month\", y = \"Number of Rides\") +\n",
    "  theme(axis.text.x = element_text(angle = 00, hjust = 0.5)) +\n",
    "  coord_flip() + scale_x_discrete(limits = rev(levels(all_trips$month)))"
   ]
  },
  {
   "cell_type": "markdown",
   "id": "b7ccc0db",
   "metadata": {
    "papermill": {
     "duration": 0.239371,
     "end_time": "2022-01-13T07:02:05.944959",
     "exception": false,
     "start_time": "2022-01-13T07:02:05.705588",
     "status": "completed"
    },
    "tags": []
   },
   "source": [
    "### From this visulization, we can see that number of rides by casual riders are higher than the member riders in summer months."
   ]
  },
  {
   "cell_type": "code",
   "execution_count": 25,
   "id": "60381d72",
   "metadata": {
    "execution": {
     "iopub.execute_input": "2022-01-13T07:02:06.430743Z",
     "iopub.status.busy": "2022-01-13T07:02:06.428587Z",
     "iopub.status.idle": "2022-01-13T07:02:07.268133Z",
     "shell.execute_reply": "2022-01-13T07:02:07.266797Z"
    },
    "papermill": {
     "duration": 1.08324,
     "end_time": "2022-01-13T07:02:07.268284",
     "exception": false,
     "start_time": "2022-01-13T07:02:06.185044",
     "status": "completed"
    },
    "tags": []
   },
   "outputs": [
    {
     "name": "stderr",
     "output_type": "stream",
     "text": [
      "`summarise()` has grouped output by 'member_casual'. You can override using the `.groups` argument.\n",
      "\n",
      "Warning message:\n",
      "“Unknown or uninitialised column: `month`.”\n"
     ]
    },
    {
     "data": {
      "image/png": "[encoded data removed]"
     },
     "metadata": {
      "image/png": {
       "height": 420,
       "width": 420
      }
     },
     "output_type": "display_data"
    }
   ],
   "source": [
    "all_trips_v3 %>% \n",
    "  group_by(member_casual, month) %>% \n",
    "  summarise(number_of_rides = n(), average_duration = mean(ride_length)) %>% \n",
    "  arrange(member_casual, month)\t%>% \n",
    "  ggplot(aes(x = month, y = average_duration, fill = member_casual)) +\n",
    "  geom_col(position = \"dodge\") +\n",
    "  labs(title=\"Average Ride Time by Month\", x = \"Month\", y = \"Ride Time (seconds)\") +\n",
    "  theme(axis.text.x = element_text(angle = 00, hjust = 0.5)) +\n",
    "  coord_flip() + scale_x_discrete(limits = rev(levels(all_trips$month)))"
   ]
  },
  {
   "cell_type": "markdown",
   "id": "ba41ab5b",
   "metadata": {
    "papermill": {
     "duration": 0.243909,
     "end_time": "2022-01-13T07:02:07.757137",
     "exception": false,
     "start_time": "2022-01-13T07:02:07.513228",
     "status": "completed"
    },
    "tags": []
   },
   "source": [
    "### From this visualization, we can see that the average ride time of causal riders are higher than the member riders in the complete year.\n",
    "\n",
    "## So, finally, we had find out that the casual riders are mostly weekend and summer months riders."
   ]
  },
  {
   "cell_type": "markdown",
   "id": "80d6dd80",
   "metadata": {
    "papermill": {
     "duration": 0.24492,
     "end_time": "2022-01-13T07:02:08.244843",
     "exception": false,
     "start_time": "2022-01-13T07:02:07.999923",
     "status": "completed"
    },
    "tags": []
   },
   "source": [
    "# 6- Act Phase\n",
    "## As companys' main motive from this project is to convert the casual riders into member riders becasue member riders are proven much more beneficial for the company than the casual riders. So, here are my findings and some recommendations\n",
    "\n",
    "* ### Casual rider who are most likely the weekend riders, company can offer them with some membership discount on getting subscription\n",
    "* ### Casual rider who rides least but for long distances weekly, company can offer them low ride prices on getting subscription\n",
    "* ### Casual rider who rides most but for short distances weekly, company can offer them some free rides on getting subscription\n",
    "* ### Casual rider who rides only in summer time, company can offer them special monhly subscription in summer months.\n",
    "\n",
    "\n",
    "## We can extend our findings by using some other information like bike type used by both riders and by using location information such that from which source station to destination station, casual riders mostly rides."
   ]
  },
  {
   "cell_type": "markdown",
   "id": "10255a59",
   "metadata": {
    "papermill": {
     "duration": 0.241117,
     "end_time": "2022-01-13T07:02:08.728628",
     "exception": false,
     "start_time": "2022-01-13T07:02:08.487511",
     "status": "completed"
    },
    "tags": []
   },
   "source": [
    "# In the end, I would like to thank you for exploring this notebook. Enjoy your day 🙃"
   ]
  }
 ],
 "metadata": {
  "kernelspec": {
   "display_name": "R",
   "language": "R",
   "name": "ir"
  },
  "language_info": {
   "codemirror_mode": "r",
   "file_extension": ".r",
   "mimetype": "text/x-r-source",
   "name": "R",
   "pygments_lexer": "r",
   "version": "4.0.5"
  },
  "papermill": {
   "default_parameters": {},
   "duration": 115.944663,
   "end_time": "2022-01-13T07:02:09.219580",
   "environment_variables": {},
   "exception": null,
   "input_path": "__notebook__.ipynb",
   "output_path": "__notebook__.ipynb",
   "parameters": {},
   "start_time": "2022-01-13T07:00:13.274917",
   "version": "2.3.3"
  }
 },
 "nbformat": 4,
 "nbformat_minor": 5
}
